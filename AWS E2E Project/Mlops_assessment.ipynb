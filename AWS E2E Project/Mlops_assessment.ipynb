{
 "cells": [
  {
   "cell_type": "markdown",
   "id": "f0df001d-a59a-4357-af0c-1a9091f791b6",
   "metadata": {},
   "source": [
    "# AWS Configuration"
   ]
  },
  {
   "cell_type": "code",
   "execution_count": 1,
   "id": "98ce35e4-8726-450a-a210-c3d1c0d549d2",
   "metadata": {},
   "outputs": [
    {
     "name": "stdout",
     "output_type": "stream",
     "text": [
      "sagemaker.config INFO - Not applying SDK defaults from location: /etc/xdg/sagemaker/config.yaml\n",
      "sagemaker.config INFO - Not applying SDK defaults from location: /home/sagemaker-user/.config/sagemaker/config.yaml\n"
     ]
    }
   ],
   "source": [
    "import boto3\n",
    "import sagemaker\n",
    "import pandas as pd\n",
    "import numpy as np"
   ]
  },
  {
   "cell_type": "code",
   "execution_count": 2,
   "id": "24e372ba-5454-4a62-9c85-570f71335d8f",
   "metadata": {},
   "outputs": [
    {
     "name": "stdout",
     "output_type": "stream",
     "text": [
      "us-east-1\n"
     ]
    }
   ],
   "source": [
    "region = boto3.Session().region_name\n",
    "print(region)"
   ]
  },
  {
   "cell_type": "code",
   "execution_count": 3,
   "id": "463bf58d-df78-4382-84cc-2e963560600a",
   "metadata": {},
   "outputs": [
    {
     "name": "stdout",
     "output_type": "stream",
     "text": [
      "arn:aws:iam::767397732163:role/service-role/AmazonSageMaker-ExecutionRole-20250128T080284\n"
     ]
    }
   ],
   "source": [
    "role = sagemaker.get_execution_role()\n",
    "print(role)"
   ]
  },
  {
   "cell_type": "markdown",
   "id": "e45c343f-6b4d-49fd-b8cd-ea852aa4a653",
   "metadata": {},
   "source": [
    "# S3 Buckets Setup"
   ]
  },
  {
   "cell_type": "code",
   "execution_count": 4,
   "id": "cd40e08f-2264-40a6-9cb5-000391126d84",
   "metadata": {},
   "outputs": [
    {
     "data": {
      "text/plain": [
       "{'ResponseMetadata': {'RequestId': '3ARBRCXC9HZYH91Q',\n",
       "  'HostId': 'dHBKqFsSk7kXAJz0YAiXlUP0CwKTRnJe1GjOkMek1RoDjpdSlmxXUJWEbVY+EPYwroN/NU3cDyA=',\n",
       "  'HTTPStatusCode': 200,\n",
       "  'HTTPHeaders': {'x-amz-id-2': 'dHBKqFsSk7kXAJz0YAiXlUP0CwKTRnJe1GjOkMek1RoDjpdSlmxXUJWEbVY+EPYwroN/NU3cDyA=',\n",
       "   'x-amz-request-id': '3ARBRCXC9HZYH91Q',\n",
       "   'date': 'Tue, 28 Jan 2025 04:29:17 GMT',\n",
       "   'location': '/mlops-assesment-deep',\n",
       "   'content-length': '0',\n",
       "   'server': 'AmazonS3'},\n",
       "  'RetryAttempts': 0},\n",
       " 'Location': '/mlops-assesment-deep'}"
      ]
     },
     "execution_count": 4,
     "metadata": {},
     "output_type": "execute_result"
    }
   ],
   "source": [
    "s3_client = boto3.client('s3')\n",
    "bucket_name = 'mlops-assesment-deep'\n",
    "s3_client.create_bucket(Bucket=bucket_name)"
   ]
  },
  {
   "cell_type": "markdown",
   "id": "acb58892-5f79-47f6-b04d-8b21644c41a3",
   "metadata": {},
   "source": [
    "### defining prefixes for organizing the data"
   ]
  },
  {
   "cell_type": "code",
   "execution_count": 5,
   "id": "c542d17a-330b-46c4-b64e-0e73b59e1cda",
   "metadata": {},
   "outputs": [],
   "source": [
    "model_dir = f's3://{bucket_name}/models/'\n",
    "data_dir = f's3://{bucket_name}/data/'\n",
    "captured_data_dir = f's3://{bucket_name}/captured-data/'"
   ]
  },
  {
   "cell_type": "markdown",
   "id": "4f5a699e-e0a1-4cfd-bb3d-f354051ade7d",
   "metadata": {},
   "source": [
    "# Variables Setup"
   ]
  },
  {
   "cell_type": "code",
   "execution_count": 6,
   "id": "0fec501a-bde5-4d51-82d5-70357afccdaf",
   "metadata": {},
   "outputs": [],
   "source": [
    "model_directory = f's3://{bucket_name}/models/'\n",
    "data_directory = f's3://{bucket_name}/data/'\n",
    "model_file = 'model.tar.gz'\n",
    "train_data = 'train.csv'\n",
    "test_data = 'test.csv'\n",
    "baseline_data = 'baseline.csv'  # If required\n",
    "metadata = 'metadata.json'  # If required"
   ]
  },
  {
   "cell_type": "markdown",
   "id": "4d84414b-f0c5-4dfd-9a24-1240a6f8ccd1",
   "metadata": {},
   "source": [
    "# S3 Authentication"
   ]
  },
  {
   "cell_type": "code",
   "execution_count": 7,
   "id": "4fcb8d48-39e3-41f0-adc7-bb52072fa9e0",
   "metadata": {},
   "outputs": [
    {
     "name": "stdout",
     "output_type": "stream",
     "text": [
      "[{'Name': 'mlops-assesment-deep', 'CreationDate': datetime.datetime(2025, 1, 28, 4, 29, 17, tzinfo=tzlocal())}, {'Name': 'sagemaker-studio-767397732163-ho6x1donhb9', 'CreationDate': datetime.datetime(2025, 1, 28, 2, 32, 40, tzinfo=tzlocal())}, {'Name': 'sagemaker-us-east-1-767397732163', 'CreationDate': datetime.datetime(2025, 1, 28, 2, 32, 43, tzinfo=tzlocal())}]\n"
     ]
    }
   ],
   "source": [
    "s3_client = boto3.client('s3')\n",
    "response = s3_client.list_buckets()\n",
    "print(response['Buckets'])"
   ]
  },
  {
   "cell_type": "markdown",
   "id": "b287b275-f904-4a42-9cb0-7367f033a1c1",
   "metadata": {},
   "source": [
    "# Data upload"
   ]
  },
  {
   "cell_type": "code",
   "execution_count": 9,
   "id": "30d5d409-87bf-4dc2-ac6c-d506c8d787d1",
   "metadata": {},
   "outputs": [],
   "source": [
    "s3_client.upload_file('train.csv', bucket_name, 'data/train.csv')"
   ]
  },
  {
   "cell_type": "code",
   "execution_count": null,
   "id": "8edc37e2-ec70-4943-b5d4-c96dc52bf1d6",
   "metadata": {},
   "outputs": [],
   "source": []
  }
 ],
 "metadata": {
  "kernelspec": {
   "display_name": "Python 3 (ipykernel)",
   "language": "python",
   "name": "python3"
  },
  "language_info": {
   "codemirror_mode": {
    "name": "ipython",
    "version": 3
   },
   "file_extension": ".py",
   "mimetype": "text/x-python",
   "name": "python",
   "nbconvert_exporter": "python",
   "pygments_lexer": "ipython3",
   "version": "3.11.11"
  }
 },
 "nbformat": 4,
 "nbformat_minor": 5
}
