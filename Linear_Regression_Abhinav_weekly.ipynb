{
 "cells": [
  {
   "cell_type": "markdown",
   "id": "ffd4b611",
   "metadata": {},
   "source": [
    "# Predict units_sold\n",
    "## Problem statement:\n",
    "\n",
    "**Problem Statement\n",
    "One of the largest retail chains in the world wants to use their vast data source to build an `efficient forecasting model` to `predict the sales for each SKU` in its portfolio at its 76 different stores using historical sales data for the past 3 years on a `week-on-week basis`. Sales and promotional information is also available for each week - product and store wise.**"
   ]
  },
  {
   "cell_type": "code",
   "execution_count": 1,
   "id": "60d06ce1",
   "metadata": {},
   "outputs": [],
   "source": [
    "#importing necessary packages\n",
    "import warnings\n",
    "warnings.filterwarnings(\"ignore\")\n",
    "import numpy as np\n",
    "import pandas as pd\n",
    "import seaborn as sns\n",
    "\n",
    "\n",
    "import matplotlib.pyplot as plt\n",
    "%matplotlib inline "
   ]
  },
  {
   "cell_type": "code",
   "execution_count": 2,
   "id": "21a589f4",
   "metadata": {},
   "outputs": [],
   "source": [
    "#loading train and test dataset\n",
    "train = pd.read_csv(\"train_0irEZ2H.csv\")\n",
    "test = pd.read_csv('test_nfaJ3J5.csv')"
   ]
  },
  {
   "cell_type": "code",
   "execution_count": 3,
   "id": "a4d6c432",
   "metadata": {},
   "outputs": [
    {
     "data": {
      "text/html": [
       "<div>\n",
       "<style scoped>\n",
       "    .dataframe tbody tr th:only-of-type {\n",
       "        vertical-align: middle;\n",
       "    }\n",
       "\n",
       "    .dataframe tbody tr th {\n",
       "        vertical-align: top;\n",
       "    }\n",
       "\n",
       "    .dataframe thead th {\n",
       "        text-align: right;\n",
       "    }\n",
       "</style>\n",
       "<table border=\"1\" class=\"dataframe\">\n",
       "  <thead>\n",
       "    <tr style=\"text-align: right;\">\n",
       "      <th></th>\n",
       "      <th>record_ID</th>\n",
       "      <th>week</th>\n",
       "      <th>store_id</th>\n",
       "      <th>sku_id</th>\n",
       "      <th>total_price</th>\n",
       "      <th>base_price</th>\n",
       "      <th>is_featured_sku</th>\n",
       "      <th>is_display_sku</th>\n",
       "      <th>units_sold</th>\n",
       "    </tr>\n",
       "  </thead>\n",
       "  <tbody>\n",
       "    <tr>\n",
       "      <th>0</th>\n",
       "      <td>1</td>\n",
       "      <td>17/01/11</td>\n",
       "      <td>8091</td>\n",
       "      <td>216418</td>\n",
       "      <td>99.0375</td>\n",
       "      <td>111.8625</td>\n",
       "      <td>0</td>\n",
       "      <td>0</td>\n",
       "      <td>20</td>\n",
       "    </tr>\n",
       "    <tr>\n",
       "      <th>1</th>\n",
       "      <td>2</td>\n",
       "      <td>17/01/11</td>\n",
       "      <td>8091</td>\n",
       "      <td>216419</td>\n",
       "      <td>99.0375</td>\n",
       "      <td>99.0375</td>\n",
       "      <td>0</td>\n",
       "      <td>0</td>\n",
       "      <td>28</td>\n",
       "    </tr>\n",
       "    <tr>\n",
       "      <th>2</th>\n",
       "      <td>3</td>\n",
       "      <td>17/01/11</td>\n",
       "      <td>8091</td>\n",
       "      <td>216425</td>\n",
       "      <td>133.9500</td>\n",
       "      <td>133.9500</td>\n",
       "      <td>0</td>\n",
       "      <td>0</td>\n",
       "      <td>19</td>\n",
       "    </tr>\n",
       "    <tr>\n",
       "      <th>3</th>\n",
       "      <td>4</td>\n",
       "      <td>17/01/11</td>\n",
       "      <td>8091</td>\n",
       "      <td>216233</td>\n",
       "      <td>133.9500</td>\n",
       "      <td>133.9500</td>\n",
       "      <td>0</td>\n",
       "      <td>0</td>\n",
       "      <td>44</td>\n",
       "    </tr>\n",
       "    <tr>\n",
       "      <th>4</th>\n",
       "      <td>5</td>\n",
       "      <td>17/01/11</td>\n",
       "      <td>8091</td>\n",
       "      <td>217390</td>\n",
       "      <td>141.0750</td>\n",
       "      <td>141.0750</td>\n",
       "      <td>0</td>\n",
       "      <td>0</td>\n",
       "      <td>52</td>\n",
       "    </tr>\n",
       "  </tbody>\n",
       "</table>\n",
       "</div>"
      ],
      "text/plain": [
       "   record_ID      week  store_id  sku_id  total_price  base_price  \\\n",
       "0          1  17/01/11      8091  216418      99.0375    111.8625   \n",
       "1          2  17/01/11      8091  216419      99.0375     99.0375   \n",
       "2          3  17/01/11      8091  216425     133.9500    133.9500   \n",
       "3          4  17/01/11      8091  216233     133.9500    133.9500   \n",
       "4          5  17/01/11      8091  217390     141.0750    141.0750   \n",
       "\n",
       "   is_featured_sku  is_display_sku  units_sold  \n",
       "0                0               0          20  \n",
       "1                0               0          28  \n",
       "2                0               0          19  \n",
       "3                0               0          44  \n",
       "4                0               0          52  "
      ]
     },
     "execution_count": 3,
     "metadata": {},
     "output_type": "execute_result"
    }
   ],
   "source": [
    "train.head()"
   ]
  },
  {
   "cell_type": "markdown",
   "id": "1459cfe4",
   "metadata": {},
   "source": [
    "# Overview "
   ]
  },
  {
   "cell_type": "code",
   "execution_count": 4,
   "id": "5da03eb3",
   "metadata": {},
   "outputs": [
    {
     "data": {
      "text/plain": [
       "((150150, 9), (13860, 8))"
      ]
     },
     "execution_count": 4,
     "metadata": {},
     "output_type": "execute_result"
    }
   ],
   "source": [
    "train.shape,test.shape"
   ]
  },
  {
   "cell_type": "markdown",
   "id": "6ce1f30c",
   "metadata": {},
   "source": [
    "* 1.5 lacs record its huge dataset a pickle would have been a better option"
   ]
  },
  {
   "cell_type": "code",
   "execution_count": 5,
   "id": "def1ffb2",
   "metadata": {},
   "outputs": [
    {
     "data": {
      "text/plain": [
       "record_ID            int64\n",
       "week                object\n",
       "store_id             int64\n",
       "sku_id               int64\n",
       "total_price        float64\n",
       "base_price         float64\n",
       "is_featured_sku      int64\n",
       "is_display_sku       int64\n",
       "units_sold           int64\n",
       "dtype: object"
      ]
     },
     "execution_count": 5,
     "metadata": {},
     "output_type": "execute_result"
    }
   ],
   "source": [
    "train.dtypes"
   ]
  },
  {
   "cell_type": "markdown",
   "id": "c1269154",
   "metadata": {},
   "source": [
    "# Inference\n",
    "* record_id,total_price,base_price,units_sold data_types is good because the values match the datatypes \n",
    "* week's datatype is wrong because column value contains\n",
    "* store_id,sku_id,is_featured_sku,is_display_sku requires further more investigation to conclude they converted to a category but as of now they look like they can be converted to category\n",
    "\n",
    "\n",
    "\n",
    "# Action points\n",
    "* Investigate store_id,sku_id,is_featured_sku,is_display_sku columns"
   ]
  },
  {
   "cell_type": "code",
   "execution_count": 6,
   "id": "ae3652fd",
   "metadata": {},
   "outputs": [],
   "source": [
    "def check_cat_conversion(threshold = 5):\n",
    "    res = []\n",
    "    for j,i in enumerate(train.columns):\n",
    "        val = round((train[i].nunique()/train.shape[0])*100,2)\n",
    "        \n",
    "        if val<=threshold and (train[i].dtypes not in ('float64','object')):\n",
    "            res.append((i,val))\n",
    "            #df[i] = df[i].astype('category')\n",
    "        else:\n",
    "            continue\n",
    "    return res\n"
   ]
  },
  {
   "cell_type": "code",
   "execution_count": 7,
   "id": "4aed7b8c",
   "metadata": {},
   "outputs": [
    {
     "data": {
      "text/plain": [
       "[('store_id', 0.05),\n",
       " ('sku_id', 0.02),\n",
       " ('is_featured_sku', 0.0),\n",
       " ('is_display_sku', 0.0),\n",
       " ('units_sold', 0.47)]"
      ]
     },
     "execution_count": 7,
     "metadata": {},
     "output_type": "execute_result"
    }
   ],
   "source": [
    "check_cat_conversion()"
   ]
  },
  {
   "cell_type": "markdown",
   "id": "801db351",
   "metadata": {},
   "source": [
    "# Inference\n",
    "* unit sold can be skipped \n",
    "# action points\n",
    "* rest all can be converted to type category"
   ]
  },
  {
   "cell_type": "code",
   "execution_count": 8,
   "id": "af09b905",
   "metadata": {},
   "outputs": [
    {
     "data": {
      "text/html": [
       "<div>\n",
       "<style scoped>\n",
       "    .dataframe tbody tr th:only-of-type {\n",
       "        vertical-align: middle;\n",
       "    }\n",
       "\n",
       "    .dataframe tbody tr th {\n",
       "        vertical-align: top;\n",
       "    }\n",
       "\n",
       "    .dataframe thead th {\n",
       "        text-align: right;\n",
       "    }\n",
       "</style>\n",
       "<table border=\"1\" class=\"dataframe\">\n",
       "  <thead>\n",
       "    <tr style=\"text-align: right;\">\n",
       "      <th></th>\n",
       "      <th>week</th>\n",
       "    </tr>\n",
       "  </thead>\n",
       "  <tbody>\n",
       "    <tr>\n",
       "      <th>0</th>\n",
       "      <td>2011-01-17</td>\n",
       "    </tr>\n",
       "    <tr>\n",
       "      <th>1</th>\n",
       "      <td>2011-01-17</td>\n",
       "    </tr>\n",
       "    <tr>\n",
       "      <th>2</th>\n",
       "      <td>2011-01-17</td>\n",
       "    </tr>\n",
       "    <tr>\n",
       "      <th>3</th>\n",
       "      <td>2011-01-17</td>\n",
       "    </tr>\n",
       "    <tr>\n",
       "      <th>4</th>\n",
       "      <td>2011-01-17</td>\n",
       "    </tr>\n",
       "  </tbody>\n",
       "</table>\n",
       "</div>"
      ],
      "text/plain": [
       "        week\n",
       "0 2011-01-17\n",
       "1 2011-01-17\n",
       "2 2011-01-17\n",
       "3 2011-01-17\n",
       "4 2011-01-17"
      ]
     },
     "execution_count": 8,
     "metadata": {},
     "output_type": "execute_result"
    }
   ],
   "source": [
    "train['week'] =pd.to_datetime(train['week'])\n",
    "train[['week']].head()"
   ]
  },
  {
   "cell_type": "code",
   "execution_count": 9,
   "id": "12e80158",
   "metadata": {},
   "outputs": [],
   "source": [
    "# train['store_id'] = train['store_id'].astype('category')\n",
    "# train['sku_id'] = train['sku_id'].astype('category')\n",
    "# train.info()"
   ]
  },
  {
   "cell_type": "markdown",
   "id": "767abe63",
   "metadata": {},
   "source": [
    "# EDA"
   ]
  },
  {
   "cell_type": "code",
   "execution_count": 10,
   "id": "602d37be",
   "metadata": {},
   "outputs": [
    {
     "data": {
      "text/html": [
       "<div>\n",
       "<style scoped>\n",
       "    .dataframe tbody tr th:only-of-type {\n",
       "        vertical-align: middle;\n",
       "    }\n",
       "\n",
       "    .dataframe tbody tr th {\n",
       "        vertical-align: top;\n",
       "    }\n",
       "\n",
       "    .dataframe thead th {\n",
       "        text-align: right;\n",
       "    }\n",
       "</style>\n",
       "<table border=\"1\" class=\"dataframe\">\n",
       "  <thead>\n",
       "    <tr style=\"text-align: right;\">\n",
       "      <th></th>\n",
       "      <th>record_ID</th>\n",
       "      <th>store_id</th>\n",
       "      <th>sku_id</th>\n",
       "      <th>total_price</th>\n",
       "      <th>base_price</th>\n",
       "      <th>is_featured_sku</th>\n",
       "      <th>is_display_sku</th>\n",
       "      <th>units_sold</th>\n",
       "    </tr>\n",
       "  </thead>\n",
       "  <tbody>\n",
       "    <tr>\n",
       "      <th>count</th>\n",
       "      <td>150150.000000</td>\n",
       "      <td>150150.000000</td>\n",
       "      <td>150150.000000</td>\n",
       "      <td>150149.000000</td>\n",
       "      <td>150150.000000</td>\n",
       "      <td>150150.000000</td>\n",
       "      <td>150150.000000</td>\n",
       "      <td>150150.000000</td>\n",
       "    </tr>\n",
       "    <tr>\n",
       "      <th>mean</th>\n",
       "      <td>106271.555504</td>\n",
       "      <td>9199.422511</td>\n",
       "      <td>254761.132468</td>\n",
       "      <td>206.626751</td>\n",
       "      <td>219.425927</td>\n",
       "      <td>0.095611</td>\n",
       "      <td>0.133200</td>\n",
       "      <td>51.674206</td>\n",
       "    </tr>\n",
       "    <tr>\n",
       "      <th>std</th>\n",
       "      <td>61386.037861</td>\n",
       "      <td>615.591445</td>\n",
       "      <td>85547.306447</td>\n",
       "      <td>103.308516</td>\n",
       "      <td>110.961712</td>\n",
       "      <td>0.294058</td>\n",
       "      <td>0.339792</td>\n",
       "      <td>60.207904</td>\n",
       "    </tr>\n",
       "    <tr>\n",
       "      <th>min</th>\n",
       "      <td>1.000000</td>\n",
       "      <td>8023.000000</td>\n",
       "      <td>216233.000000</td>\n",
       "      <td>41.325000</td>\n",
       "      <td>61.275000</td>\n",
       "      <td>0.000000</td>\n",
       "      <td>0.000000</td>\n",
       "      <td>1.000000</td>\n",
       "    </tr>\n",
       "    <tr>\n",
       "      <th>25%</th>\n",
       "      <td>53111.250000</td>\n",
       "      <td>8562.000000</td>\n",
       "      <td>217217.000000</td>\n",
       "      <td>130.387500</td>\n",
       "      <td>133.237500</td>\n",
       "      <td>0.000000</td>\n",
       "      <td>0.000000</td>\n",
       "      <td>20.000000</td>\n",
       "    </tr>\n",
       "    <tr>\n",
       "      <th>50%</th>\n",
       "      <td>106226.500000</td>\n",
       "      <td>9371.000000</td>\n",
       "      <td>222087.000000</td>\n",
       "      <td>198.075000</td>\n",
       "      <td>205.912500</td>\n",
       "      <td>0.000000</td>\n",
       "      <td>0.000000</td>\n",
       "      <td>35.000000</td>\n",
       "    </tr>\n",
       "    <tr>\n",
       "      <th>75%</th>\n",
       "      <td>159452.750000</td>\n",
       "      <td>9731.000000</td>\n",
       "      <td>245338.000000</td>\n",
       "      <td>233.700000</td>\n",
       "      <td>234.412500</td>\n",
       "      <td>0.000000</td>\n",
       "      <td>0.000000</td>\n",
       "      <td>62.000000</td>\n",
       "    </tr>\n",
       "    <tr>\n",
       "      <th>max</th>\n",
       "      <td>212644.000000</td>\n",
       "      <td>9984.000000</td>\n",
       "      <td>679023.000000</td>\n",
       "      <td>562.162500</td>\n",
       "      <td>562.162500</td>\n",
       "      <td>1.000000</td>\n",
       "      <td>1.000000</td>\n",
       "      <td>2876.000000</td>\n",
       "    </tr>\n",
       "  </tbody>\n",
       "</table>\n",
       "</div>"
      ],
      "text/plain": [
       "           record_ID       store_id         sku_id    total_price  \\\n",
       "count  150150.000000  150150.000000  150150.000000  150149.000000   \n",
       "mean   106271.555504    9199.422511  254761.132468     206.626751   \n",
       "std     61386.037861     615.591445   85547.306447     103.308516   \n",
       "min         1.000000    8023.000000  216233.000000      41.325000   \n",
       "25%     53111.250000    8562.000000  217217.000000     130.387500   \n",
       "50%    106226.500000    9371.000000  222087.000000     198.075000   \n",
       "75%    159452.750000    9731.000000  245338.000000     233.700000   \n",
       "max    212644.000000    9984.000000  679023.000000     562.162500   \n",
       "\n",
       "          base_price  is_featured_sku  is_display_sku     units_sold  \n",
       "count  150150.000000    150150.000000   150150.000000  150150.000000  \n",
       "mean      219.425927         0.095611        0.133200      51.674206  \n",
       "std       110.961712         0.294058        0.339792      60.207904  \n",
       "min        61.275000         0.000000        0.000000       1.000000  \n",
       "25%       133.237500         0.000000        0.000000      20.000000  \n",
       "50%       205.912500         0.000000        0.000000      35.000000  \n",
       "75%       234.412500         0.000000        0.000000      62.000000  \n",
       "max       562.162500         1.000000        1.000000    2876.000000  "
      ]
     },
     "execution_count": 10,
     "metadata": {},
     "output_type": "execute_result"
    }
   ],
   "source": [
    "train.describe()"
   ]
  },
  {
   "cell_type": "markdown",
   "id": "20581f56",
   "metadata": {},
   "source": [
    "# observations\n",
    "* recordID can be ignored beacuse its basically a no. that identitifies each row uniquely\n",
    "* is_feartured_sku can be ignored beacuse its a category and for training it is necessary it remains a number\n",
    "* is_display_sku can be ignored beacuse its a category and for training it is necessary it remains a number\n",
    "## total_price\n",
    "* mean > median a slight right skewness will be there in the data and the standard deviation is high so data is not well distributed and mean > standard deviation the normal curve will be a bit flattened and range of the data is 41 to 562\n",
    "* outliers are present \n",
    "## base_price\n",
    "* mean > median a slight right skewness will be there in the data and the standard deviation is high so data is not well distributed and mean > standard deviation the normal curve will be a bit flattened and range of the data is 61 to 562.\n",
    "* comparing the ranges of the total_price and base price it is clear that there total_price < base_price which means some items are being sold below base price hence reason can be investigated for this loss in total_price\n",
    "* outliers are present\n",
    "\n",
    "## units_sold\n",
    "* mean > median a right skewness will be there in the data and the standard deviation is high so data is not well distributed and mean < standard deviation the normal curve will be a sharp peak and range of the data is 1 to 2876\n",
    "* outliers are present"
   ]
  },
  {
   "cell_type": "code",
   "execution_count": 11,
   "id": "f36a2de4",
   "metadata": {},
   "outputs": [
    {
     "data": {
      "text/plain": [
       "record_ID          0\n",
       "week               0\n",
       "store_id           0\n",
       "sku_id             0\n",
       "total_price        1\n",
       "base_price         0\n",
       "is_featured_sku    0\n",
       "is_display_sku     0\n",
       "units_sold         0\n",
       "dtype: int64"
      ]
     },
     "execution_count": 11,
     "metadata": {},
     "output_type": "execute_result"
    }
   ],
   "source": [
    "train.isnull().sum()"
   ]
  },
  {
   "cell_type": "markdown",
   "id": "8aeebb2e",
   "metadata": {},
   "source": [
    "* only 1 null can be dropped"
   ]
  },
  {
   "cell_type": "code",
   "execution_count": 12,
   "id": "1fa35dde",
   "metadata": {},
   "outputs": [],
   "source": [
    "train.dropna(inplace = True)"
   ]
  },
  {
   "cell_type": "code",
   "execution_count": 13,
   "id": "44afb24d",
   "metadata": {},
   "outputs": [
    {
     "data": {
      "text/plain": [
       "record_ID          0\n",
       "week               0\n",
       "store_id           0\n",
       "sku_id             0\n",
       "total_price        0\n",
       "base_price         0\n",
       "is_featured_sku    0\n",
       "is_display_sku     0\n",
       "units_sold         0\n",
       "dtype: int64"
      ]
     },
     "execution_count": 13,
     "metadata": {},
     "output_type": "execute_result"
    }
   ],
   "source": [
    "train.isnull().sum()"
   ]
  },
  {
   "cell_type": "markdown",
   "id": "6a061dcb",
   "metadata": {},
   "source": [
    "# Time based analysis\n",
    "\n",
    "As our Aim is to predict unit sold for a given time. So, focusing on Time based analysis"
   ]
  },
  {
   "cell_type": "code",
   "execution_count": 14,
   "id": "246f5426",
   "metadata": {
    "scrolled": true
   },
   "outputs": [
    {
     "data": {
      "text/plain": [
       "<AxesSubplot:xlabel='week'>"
      ]
     },
     "execution_count": 14,
     "metadata": {},
     "output_type": "execute_result"
    },
    {
     "data": {
      "image/png": "[encoded data removed]",
      "text/plain": [
       "<Figure size 640x480 with 1 Axes>"
      ]
     },
     "metadata": {},
     "output_type": "display_data"
    }
   ],
   "source": [
    "train[['week','total_price']].set_index('week').plot()"
   ]
  },
  {
   "cell_type": "markdown",
   "id": "7d10393f",
   "metadata": {},
   "source": [
    "# Insight\n",
    "\n",
    "## Total price is not corelated to weekly data"
   ]
  },
  {
   "cell_type": "code",
   "execution_count": 15,
   "id": "97c600fa",
   "metadata": {},
   "outputs": [
    {
     "data": {
      "text/plain": [
       "<AxesSubplot:xlabel='week'>"
      ]
     },
     "execution_count": 15,
     "metadata": {},
     "output_type": "execute_result"
    },
    {
     "data": {
      "image/png": "[encoded data removed]",
      "text/plain": [
       "<Figure size 640x480 with 1 Axes>"
      ]
     },
     "metadata": {},
     "output_type": "display_data"
    }
   ],
   "source": [
    "train[['week','units_sold']].set_index('week').plot()"
   ]
  },
  {
   "cell_type": "code",
   "execution_count": 16,
   "id": "2fccb9fd",
   "metadata": {
    "scrolled": true
   },
   "outputs": [
    {
     "data": {
      "text/plain": [
       "<AxesSubplot:xlabel='total_price', ylabel='Density'>"
      ]
     },
     "execution_count": 16,
     "metadata": {},
     "output_type": "execute_result"
    },
    {
     "data": {
      "image/png": "[encoded data removed]",
      "text/plain": [
       "<Figure size 640x480 with 1 Axes>"
      ]
     },
     "metadata": {},
     "output_type": "display_data"
    }
   ],
   "source": [
    "sns.distplot(train['total_price'])"
   ]
  },
  {
   "cell_type": "markdown",
   "id": "23ba8726",
   "metadata": {},
   "source": [
    "# Outlier analysis"
   ]
  },
  {
   "cell_type": "code",
   "execution_count": 17,
   "id": "ffad564a",
   "metadata": {},
   "outputs": [
    {
     "data": {
      "text/plain": [
       "<AxesSubplot:xlabel='units_sold', ylabel='Density'>"
      ]
     },
     "execution_count": 17,
     "metadata": {},
     "output_type": "execute_result"
    },
    {
     "data": {
      "image/png": "[encoded data removed]",
      "text/plain": [
       "<Figure size 640x480 with 1 Axes>"
      ]
     },
     "metadata": {},
     "output_type": "display_data"
    }
   ],
   "source": [
    "sns.distplot(train['units_sold'])"
   ]
  },
  {
   "cell_type": "markdown",
   "id": "cd316f4f",
   "metadata": {},
   "source": [
    "# Insight:\n",
    "Clearly there are outliers"
   ]
  },
  {
   "cell_type": "code",
   "execution_count": 18,
   "id": "86bd36ff",
   "metadata": {},
   "outputs": [
    {
     "data": {
      "text/plain": [
       "count    150149.000000\n",
       "mean         51.674543\n",
       "std          60.207962\n",
       "min           1.000000\n",
       "25%          20.000000\n",
       "50%          35.000000\n",
       "75%          62.000000\n",
       "max        2876.000000\n",
       "Name: units_sold, dtype: float64"
      ]
     },
     "execution_count": 18,
     "metadata": {},
     "output_type": "execute_result"
    }
   ],
   "source": [
    "train['units_sold'].describe().T"
   ]
  },
  {
   "cell_type": "code",
   "execution_count": 19,
   "id": "8730834d",
   "metadata": {},
   "outputs": [],
   "source": [
    "Q1 = train['units_sold'].quantile(0.05)\n",
    "Q3 = train['units_sold'].quantile(0.95)\n",
    "IQR = Q3 - Q1\n",
    "train = train[~((train['units_sold'] < (Q1 - 1.5 * IQR)) |(train['units_sold'] > (Q3 + 1.5 * IQR)))]"
   ]
  },
  {
   "cell_type": "code",
   "execution_count": 20,
   "id": "b495c1b6",
   "metadata": {},
   "outputs": [
    {
     "data": {
      "text/plain": [
       "<AxesSubplot:xlabel='units_sold', ylabel='Density'>"
      ]
     },
     "execution_count": 20,
     "metadata": {},
     "output_type": "execute_result"
    },
    {
     "data": {
      "image/png": "[encoded data removed]",
      "text/plain": [
       "<Figure size 640x480 with 1 Axes>"
      ]
     },
     "metadata": {},
     "output_type": "display_data"
    }
   ],
   "source": [
    "sns.distplot(train['units_sold'])"
   ]
  },
  {
   "cell_type": "code",
   "execution_count": 21,
   "id": "081cbba6",
   "metadata": {},
   "outputs": [
    {
     "data": {
      "text/plain": [
       "count    149365.000000\n",
       "mean         49.147940\n",
       "std          46.693912\n",
       "min           1.000000\n",
       "25%          20.000000\n",
       "50%          35.000000\n",
       "75%          62.000000\n",
       "max         358.000000\n",
       "Name: units_sold, dtype: float64"
      ]
     },
     "execution_count": 21,
     "metadata": {},
     "output_type": "execute_result"
    }
   ],
   "source": [
    "train['units_sold'].describe().T"
   ]
  },
  {
   "cell_type": "markdown",
   "id": "311ebe07",
   "metadata": {},
   "source": [
    "# Insght :\n",
    "\n",
    "**STD drops and goes near average hence, removal of outlies is justified** "
   ]
  },
  {
   "cell_type": "markdown",
   "id": "eca35643",
   "metadata": {},
   "source": [
    "# Converting Dataset sku_id and week wise total price"
   ]
  },
  {
   "cell_type": "code",
   "execution_count": 22,
   "id": "6b5607b2",
   "metadata": {},
   "outputs": [],
   "source": [
    "train['week']=pd.to_datetime(train['week'])\n",
    "df = train.groupby(['sku_id','week'])['total_price','units_sold'].sum()\n",
    "df = df.reset_index()"
   ]
  },
  {
   "cell_type": "code",
   "execution_count": 23,
   "id": "c793be2f",
   "metadata": {},
   "outputs": [],
   "source": [
    "def conv_week(x):\n",
    "    a = ''\n",
    "    if len(str(x.month)) == 1:\n",
    "        a = '0'+ str(x.month)\n",
    "    else:\n",
    "        a =str(x.month)\n",
    "    return int(str(x.year)+a)\n",
    "        "
   ]
  },
  {
   "cell_type": "code",
   "execution_count": 24,
   "id": "a9a514f7",
   "metadata": {},
   "outputs": [],
   "source": [
    "df['week'] = df['week'].apply(conv_week)"
   ]
  },
  {
   "cell_type": "code",
   "execution_count": 25,
   "id": "75d80703",
   "metadata": {},
   "outputs": [
    {
     "data": {
      "text/html": [
       "<div>\n",
       "<style scoped>\n",
       "    .dataframe tbody tr th:only-of-type {\n",
       "        vertical-align: middle;\n",
       "    }\n",
       "\n",
       "    .dataframe tbody tr th {\n",
       "        vertical-align: top;\n",
       "    }\n",
       "\n",
       "    .dataframe thead th {\n",
       "        text-align: right;\n",
       "    }\n",
       "</style>\n",
       "<table border=\"1\" class=\"dataframe\">\n",
       "  <thead>\n",
       "    <tr style=\"text-align: right;\">\n",
       "      <th></th>\n",
       "      <th>sku_id</th>\n",
       "      <th>week</th>\n",
       "      <th>total_price</th>\n",
       "      <th>units_sold</th>\n",
       "    </tr>\n",
       "  </thead>\n",
       "  <tbody>\n",
       "    <tr>\n",
       "      <th>0</th>\n",
       "      <td>216233</td>\n",
       "      <td>201101</td>\n",
       "      <td>9534.6750</td>\n",
       "      <td>3578</td>\n",
       "    </tr>\n",
       "    <tr>\n",
       "      <th>1</th>\n",
       "      <td>216233</td>\n",
       "      <td>201101</td>\n",
       "      <td>9521.1375</td>\n",
       "      <td>3097</td>\n",
       "    </tr>\n",
       "    <tr>\n",
       "      <th>2</th>\n",
       "      <td>216233</td>\n",
       "      <td>201101</td>\n",
       "      <td>9772.6500</td>\n",
       "      <td>2837</td>\n",
       "    </tr>\n",
       "    <tr>\n",
       "      <th>3</th>\n",
       "      <td>216233</td>\n",
       "      <td>201101</td>\n",
       "      <td>9760.5375</td>\n",
       "      <td>2984</td>\n",
       "    </tr>\n",
       "    <tr>\n",
       "      <th>4</th>\n",
       "      <td>216233</td>\n",
       "      <td>201102</td>\n",
       "      <td>9740.5875</td>\n",
       "      <td>2607</td>\n",
       "    </tr>\n",
       "    <tr>\n",
       "      <th>...</th>\n",
       "      <td>...</td>\n",
       "      <td>...</td>\n",
       "      <td>...</td>\n",
       "      <td>...</td>\n",
       "    </tr>\n",
       "    <tr>\n",
       "      <th>3635</th>\n",
       "      <td>679023</td>\n",
       "      <td>201309</td>\n",
       "      <td>1917.3375</td>\n",
       "      <td>141</td>\n",
       "    </tr>\n",
       "    <tr>\n",
       "      <th>3636</th>\n",
       "      <td>679023</td>\n",
       "      <td>201309</td>\n",
       "      <td>2109.7125</td>\n",
       "      <td>73</td>\n",
       "    </tr>\n",
       "    <tr>\n",
       "      <th>3637</th>\n",
       "      <td>679023</td>\n",
       "      <td>201311</td>\n",
       "      <td>2109.7125</td>\n",
       "      <td>119</td>\n",
       "    </tr>\n",
       "    <tr>\n",
       "      <th>3638</th>\n",
       "      <td>679023</td>\n",
       "      <td>201312</td>\n",
       "      <td>1634.4750</td>\n",
       "      <td>177</td>\n",
       "    </tr>\n",
       "    <tr>\n",
       "      <th>3639</th>\n",
       "      <td>679023</td>\n",
       "      <td>201312</td>\n",
       "      <td>1605.9750</td>\n",
       "      <td>165</td>\n",
       "    </tr>\n",
       "  </tbody>\n",
       "</table>\n",
       "<p>3640 rows × 4 columns</p>\n",
       "</div>"
      ],
      "text/plain": [
       "      sku_id    week  total_price  units_sold\n",
       "0     216233  201101    9534.6750        3578\n",
       "1     216233  201101    9521.1375        3097\n",
       "2     216233  201101    9772.6500        2837\n",
       "3     216233  201101    9760.5375        2984\n",
       "4     216233  201102    9740.5875        2607\n",
       "...      ...     ...          ...         ...\n",
       "3635  679023  201309    1917.3375         141\n",
       "3636  679023  201309    2109.7125          73\n",
       "3637  679023  201311    2109.7125         119\n",
       "3638  679023  201312    1634.4750         177\n",
       "3639  679023  201312    1605.9750         165\n",
       "\n",
       "[3640 rows x 4 columns]"
      ]
     },
     "execution_count": 25,
     "metadata": {},
     "output_type": "execute_result"
    }
   ],
   "source": [
    "df"
   ]
  },
  {
   "cell_type": "code",
   "execution_count": 26,
   "id": "aca5ce32",
   "metadata": {},
   "outputs": [
    {
     "data": {
      "text/plain": [
       "<AxesSubplot:>"
      ]
     },
     "execution_count": 26,
     "metadata": {},
     "output_type": "execute_result"
    },
    {
     "data": {
      "image/png": "[encoded data removed]",
      "text/plain": [
       "<Figure size 640x480 with 2 Axes>"
      ]
     },
     "metadata": {},
     "output_type": "display_data"
    }
   ],
   "source": [
    "sns.heatmap(df.corr(),cmap='coolwarm', annot=True)"
   ]
  },
  {
   "cell_type": "code",
   "execution_count": 27,
   "id": "45abfa24",
   "metadata": {},
   "outputs": [
    {
     "data": {
      "image/png": "[encoded data removed]",
      "text/plain": [
       "<Figure size 1000x500 with 1 Axes>"
      ]
     },
     "metadata": {},
     "output_type": "display_data"
    }
   ],
   "source": [
    "sns.catplot(x='sku_id', y = 'units_sold', data= train, kind='bar', aspect=2, n_boot=1 )\n",
    "plt.xticks(rotation=90)\n",
    "plt.show()"
   ]
  },
  {
   "cell_type": "markdown",
   "id": "1a44c37c",
   "metadata": {},
   "source": [
    "# Insight:\n",
    "- sku_id is a dominant catagory "
   ]
  },
  {
   "cell_type": "code",
   "execution_count": 28,
   "id": "4843ba26",
   "metadata": {},
   "outputs": [],
   "source": [
    "dum1 = pd.get_dummies(df['sku_id'], drop_first=True)\n",
    "df = pd.concat([df, dum1], axis = 1)\n",
    "\n",
    "df.drop('sku_id', axis=1, inplace=True)"
   ]
  },
  {
   "cell_type": "code",
   "execution_count": 29,
   "id": "33aaa543",
   "metadata": {},
   "outputs": [
    {
     "data": {
      "text/html": [
       "<div>\n",
       "<style scoped>\n",
       "    .dataframe tbody tr th:only-of-type {\n",
       "        vertical-align: middle;\n",
       "    }\n",
       "\n",
       "    .dataframe tbody tr th {\n",
       "        vertical-align: top;\n",
       "    }\n",
       "\n",
       "    .dataframe thead th {\n",
       "        text-align: right;\n",
       "    }\n",
       "</style>\n",
       "<table border=\"1\" class=\"dataframe\">\n",
       "  <thead>\n",
       "    <tr style=\"text-align: right;\">\n",
       "      <th></th>\n",
       "      <th>week</th>\n",
       "      <th>total_price</th>\n",
       "      <th>units_sold</th>\n",
       "      <th>216418</th>\n",
       "      <th>216419</th>\n",
       "      <th>216425</th>\n",
       "      <th>217217</th>\n",
       "      <th>217390</th>\n",
       "      <th>217777</th>\n",
       "      <th>219009</th>\n",
       "      <th>...</th>\n",
       "      <th>320485</th>\n",
       "      <th>327492</th>\n",
       "      <th>378934</th>\n",
       "      <th>398721</th>\n",
       "      <th>545621</th>\n",
       "      <th>546789</th>\n",
       "      <th>547934</th>\n",
       "      <th>600934</th>\n",
       "      <th>673209</th>\n",
       "      <th>679023</th>\n",
       "    </tr>\n",
       "  </thead>\n",
       "  <tbody>\n",
       "    <tr>\n",
       "      <th>0</th>\n",
       "      <td>201101</td>\n",
       "      <td>9534.6750</td>\n",
       "      <td>3578</td>\n",
       "      <td>0</td>\n",
       "      <td>0</td>\n",
       "      <td>0</td>\n",
       "      <td>0</td>\n",
       "      <td>0</td>\n",
       "      <td>0</td>\n",
       "      <td>0</td>\n",
       "      <td>...</td>\n",
       "      <td>0</td>\n",
       "      <td>0</td>\n",
       "      <td>0</td>\n",
       "      <td>0</td>\n",
       "      <td>0</td>\n",
       "      <td>0</td>\n",
       "      <td>0</td>\n",
       "      <td>0</td>\n",
       "      <td>0</td>\n",
       "      <td>0</td>\n",
       "    </tr>\n",
       "    <tr>\n",
       "      <th>1</th>\n",
       "      <td>201101</td>\n",
       "      <td>9521.1375</td>\n",
       "      <td>3097</td>\n",
       "      <td>0</td>\n",
       "      <td>0</td>\n",
       "      <td>0</td>\n",
       "      <td>0</td>\n",
       "      <td>0</td>\n",
       "      <td>0</td>\n",
       "      <td>0</td>\n",
       "      <td>...</td>\n",
       "      <td>0</td>\n",
       "      <td>0</td>\n",
       "      <td>0</td>\n",
       "      <td>0</td>\n",
       "      <td>0</td>\n",
       "      <td>0</td>\n",
       "      <td>0</td>\n",
       "      <td>0</td>\n",
       "      <td>0</td>\n",
       "      <td>0</td>\n",
       "    </tr>\n",
       "    <tr>\n",
       "      <th>2</th>\n",
       "      <td>201101</td>\n",
       "      <td>9772.6500</td>\n",
       "      <td>2837</td>\n",
       "      <td>0</td>\n",
       "      <td>0</td>\n",
       "      <td>0</td>\n",
       "      <td>0</td>\n",
       "      <td>0</td>\n",
       "      <td>0</td>\n",
       "      <td>0</td>\n",
       "      <td>...</td>\n",
       "      <td>0</td>\n",
       "      <td>0</td>\n",
       "      <td>0</td>\n",
       "      <td>0</td>\n",
       "      <td>0</td>\n",
       "      <td>0</td>\n",
       "      <td>0</td>\n",
       "      <td>0</td>\n",
       "      <td>0</td>\n",
       "      <td>0</td>\n",
       "    </tr>\n",
       "    <tr>\n",
       "      <th>3</th>\n",
       "      <td>201101</td>\n",
       "      <td>9760.5375</td>\n",
       "      <td>2984</td>\n",
       "      <td>0</td>\n",
       "      <td>0</td>\n",
       "      <td>0</td>\n",
       "      <td>0</td>\n",
       "      <td>0</td>\n",
       "      <td>0</td>\n",
       "      <td>0</td>\n",
       "      <td>...</td>\n",
       "      <td>0</td>\n",
       "      <td>0</td>\n",
       "      <td>0</td>\n",
       "      <td>0</td>\n",
       "      <td>0</td>\n",
       "      <td>0</td>\n",
       "      <td>0</td>\n",
       "      <td>0</td>\n",
       "      <td>0</td>\n",
       "      <td>0</td>\n",
       "    </tr>\n",
       "    <tr>\n",
       "      <th>4</th>\n",
       "      <td>201102</td>\n",
       "      <td>9740.5875</td>\n",
       "      <td>2607</td>\n",
       "      <td>0</td>\n",
       "      <td>0</td>\n",
       "      <td>0</td>\n",
       "      <td>0</td>\n",
       "      <td>0</td>\n",
       "      <td>0</td>\n",
       "      <td>0</td>\n",
       "      <td>...</td>\n",
       "      <td>0</td>\n",
       "      <td>0</td>\n",
       "      <td>0</td>\n",
       "      <td>0</td>\n",
       "      <td>0</td>\n",
       "      <td>0</td>\n",
       "      <td>0</td>\n",
       "      <td>0</td>\n",
       "      <td>0</td>\n",
       "      <td>0</td>\n",
       "    </tr>\n",
       "    <tr>\n",
       "      <th>...</th>\n",
       "      <td>...</td>\n",
       "      <td>...</td>\n",
       "      <td>...</td>\n",
       "      <td>...</td>\n",
       "      <td>...</td>\n",
       "      <td>...</td>\n",
       "      <td>...</td>\n",
       "      <td>...</td>\n",
       "      <td>...</td>\n",
       "      <td>...</td>\n",
       "      <td>...</td>\n",
       "      <td>...</td>\n",
       "      <td>...</td>\n",
       "      <td>...</td>\n",
       "      <td>...</td>\n",
       "      <td>...</td>\n",
       "      <td>...</td>\n",
       "      <td>...</td>\n",
       "      <td>...</td>\n",
       "      <td>...</td>\n",
       "      <td>...</td>\n",
       "    </tr>\n",
       "    <tr>\n",
       "      <th>3635</th>\n",
       "      <td>201309</td>\n",
       "      <td>1917.3375</td>\n",
       "      <td>141</td>\n",
       "      <td>0</td>\n",
       "      <td>0</td>\n",
       "      <td>0</td>\n",
       "      <td>0</td>\n",
       "      <td>0</td>\n",
       "      <td>0</td>\n",
       "      <td>0</td>\n",
       "      <td>...</td>\n",
       "      <td>0</td>\n",
       "      <td>0</td>\n",
       "      <td>0</td>\n",
       "      <td>0</td>\n",
       "      <td>0</td>\n",
       "      <td>0</td>\n",
       "      <td>0</td>\n",
       "      <td>0</td>\n",
       "      <td>0</td>\n",
       "      <td>1</td>\n",
       "    </tr>\n",
       "    <tr>\n",
       "      <th>3636</th>\n",
       "      <td>201309</td>\n",
       "      <td>2109.7125</td>\n",
       "      <td>73</td>\n",
       "      <td>0</td>\n",
       "      <td>0</td>\n",
       "      <td>0</td>\n",
       "      <td>0</td>\n",
       "      <td>0</td>\n",
       "      <td>0</td>\n",
       "      <td>0</td>\n",
       "      <td>...</td>\n",
       "      <td>0</td>\n",
       "      <td>0</td>\n",
       "      <td>0</td>\n",
       "      <td>0</td>\n",
       "      <td>0</td>\n",
       "      <td>0</td>\n",
       "      <td>0</td>\n",
       "      <td>0</td>\n",
       "      <td>0</td>\n",
       "      <td>1</td>\n",
       "    </tr>\n",
       "    <tr>\n",
       "      <th>3637</th>\n",
       "      <td>201311</td>\n",
       "      <td>2109.7125</td>\n",
       "      <td>119</td>\n",
       "      <td>0</td>\n",
       "      <td>0</td>\n",
       "      <td>0</td>\n",
       "      <td>0</td>\n",
       "      <td>0</td>\n",
       "      <td>0</td>\n",
       "      <td>0</td>\n",
       "      <td>...</td>\n",
       "      <td>0</td>\n",
       "      <td>0</td>\n",
       "      <td>0</td>\n",
       "      <td>0</td>\n",
       "      <td>0</td>\n",
       "      <td>0</td>\n",
       "      <td>0</td>\n",
       "      <td>0</td>\n",
       "      <td>0</td>\n",
       "      <td>1</td>\n",
       "    </tr>\n",
       "    <tr>\n",
       "      <th>3638</th>\n",
       "      <td>201312</td>\n",
       "      <td>1634.4750</td>\n",
       "      <td>177</td>\n",
       "      <td>0</td>\n",
       "      <td>0</td>\n",
       "      <td>0</td>\n",
       "      <td>0</td>\n",
       "      <td>0</td>\n",
       "      <td>0</td>\n",
       "      <td>0</td>\n",
       "      <td>...</td>\n",
       "      <td>0</td>\n",
       "      <td>0</td>\n",
       "      <td>0</td>\n",
       "      <td>0</td>\n",
       "      <td>0</td>\n",
       "      <td>0</td>\n",
       "      <td>0</td>\n",
       "      <td>0</td>\n",
       "      <td>0</td>\n",
       "      <td>1</td>\n",
       "    </tr>\n",
       "    <tr>\n",
       "      <th>3639</th>\n",
       "      <td>201312</td>\n",
       "      <td>1605.9750</td>\n",
       "      <td>165</td>\n",
       "      <td>0</td>\n",
       "      <td>0</td>\n",
       "      <td>0</td>\n",
       "      <td>0</td>\n",
       "      <td>0</td>\n",
       "      <td>0</td>\n",
       "      <td>0</td>\n",
       "      <td>...</td>\n",
       "      <td>0</td>\n",
       "      <td>0</td>\n",
       "      <td>0</td>\n",
       "      <td>0</td>\n",
       "      <td>0</td>\n",
       "      <td>0</td>\n",
       "      <td>0</td>\n",
       "      <td>0</td>\n",
       "      <td>0</td>\n",
       "      <td>1</td>\n",
       "    </tr>\n",
       "  </tbody>\n",
       "</table>\n",
       "<p>3640 rows × 30 columns</p>\n",
       "</div>"
      ],
      "text/plain": [
       "        week  total_price  units_sold  216418  216419  216425  217217  217390  \\\n",
       "0     201101    9534.6750        3578       0       0       0       0       0   \n",
       "1     201101    9521.1375        3097       0       0       0       0       0   \n",
       "2     201101    9772.6500        2837       0       0       0       0       0   \n",
       "3     201101    9760.5375        2984       0       0       0       0       0   \n",
       "4     201102    9740.5875        2607       0       0       0       0       0   \n",
       "...      ...          ...         ...     ...     ...     ...     ...     ...   \n",
       "3635  201309    1917.3375         141       0       0       0       0       0   \n",
       "3636  201309    2109.7125          73       0       0       0       0       0   \n",
       "3637  201311    2109.7125         119       0       0       0       0       0   \n",
       "3638  201312    1634.4750         177       0       0       0       0       0   \n",
       "3639  201312    1605.9750         165       0       0       0       0       0   \n",
       "\n",
       "      217777  219009  ...  320485  327492  378934  398721  545621  546789  \\\n",
       "0          0       0  ...       0       0       0       0       0       0   \n",
       "1          0       0  ...       0       0       0       0       0       0   \n",
       "2          0       0  ...       0       0       0       0       0       0   \n",
       "3          0       0  ...       0       0       0       0       0       0   \n",
       "4          0       0  ...       0       0       0       0       0       0   \n",
       "...      ...     ...  ...     ...     ...     ...     ...     ...     ...   \n",
       "3635       0       0  ...       0       0       0       0       0       0   \n",
       "3636       0       0  ...       0       0       0       0       0       0   \n",
       "3637       0       0  ...       0       0       0       0       0       0   \n",
       "3638       0       0  ...       0       0       0       0       0       0   \n",
       "3639       0       0  ...       0       0       0       0       0       0   \n",
       "\n",
       "      547934  600934  673209  679023  \n",
       "0          0       0       0       0  \n",
       "1          0       0       0       0  \n",
       "2          0       0       0       0  \n",
       "3          0       0       0       0  \n",
       "4          0       0       0       0  \n",
       "...      ...     ...     ...     ...  \n",
       "3635       0       0       0       1  \n",
       "3636       0       0       0       1  \n",
       "3637       0       0       0       1  \n",
       "3638       0       0       0       1  \n",
       "3639       0       0       0       1  \n",
       "\n",
       "[3640 rows x 30 columns]"
      ]
     },
     "execution_count": 29,
     "metadata": {},
     "output_type": "execute_result"
    }
   ],
   "source": [
    "df"
   ]
  },
  {
   "cell_type": "markdown",
   "id": "148cb1c2",
   "metadata": {},
   "source": [
    "# insight:\n",
    "1. Its very clear that we need to train a regression model so catagorical Data will not help. \n",
    "2. Total Price and Base Price is almost same so need to use only one out of these."
   ]
  },
  {
   "cell_type": "code",
   "execution_count": 30,
   "id": "30e0dce8",
   "metadata": {},
   "outputs": [
    {
     "data": {
      "text/plain": [
       "<AxesSubplot:>"
      ]
     },
     "execution_count": 30,
     "metadata": {},
     "output_type": "execute_result"
    },
    {
     "data": {
      "image/png": "[encoded data removed]",
      "text/plain": [
       "<Figure size 640x480 with 2 Axes>"
      ]
     },
     "metadata": {},
     "output_type": "display_data"
    }
   ],
   "source": [
    "sns.heatmap(df.corr(),cmap='coolwarm')"
   ]
  },
  {
   "cell_type": "markdown",
   "id": "fd8923a3",
   "metadata": {},
   "source": [
    "# Insight\n",
    "\n",
    "1. We will use total price and month to predict units sold"
   ]
  },
  {
   "cell_type": "code",
   "execution_count": 31,
   "id": "227f2f03",
   "metadata": {},
   "outputs": [
    {
     "data": {
      "text/plain": [
       "<AxesSubplot:>"
      ]
     },
     "execution_count": 31,
     "metadata": {},
     "output_type": "execute_result"
    },
    {
     "data": {
      "image/png": "[encoded data removed]",
      "text/plain": [
       "<Figure size 640x480 with 1 Axes>"
      ]
     },
     "metadata": {},
     "output_type": "display_data"
    }
   ],
   "source": [
    "df[['total_price','units_sold']].plot()"
   ]
  },
  {
   "cell_type": "markdown",
   "id": "dd3e0167",
   "metadata": {},
   "source": [
    "# Insight:\n",
    "- unit sold and total price is sharing some trend "
   ]
  },
  {
   "cell_type": "code",
   "execution_count": 32,
   "id": "a17e1ec4",
   "metadata": {},
   "outputs": [],
   "source": [
    "df.dropna(inplace=True)"
   ]
  },
  {
   "cell_type": "code",
   "execution_count": 33,
   "id": "b0836243",
   "metadata": {},
   "outputs": [],
   "source": [
    "x = df.drop('units_sold', axis=1)\n",
    "y = df['units_sold']"
   ]
  },
  {
   "cell_type": "markdown",
   "id": "c3533df5",
   "metadata": {},
   "source": [
    "# Spliting Data for training and testing"
   ]
  },
  {
   "cell_type": "code",
   "execution_count": 34,
   "id": "cf49ab64",
   "metadata": {},
   "outputs": [],
   "source": [
    "from sklearn.model_selection import train_test_split\n",
    "x_train, x_test, y_train, y_test = train_test_split(x,y, test_size = 0.33,random_state=90)"
   ]
  },
  {
   "cell_type": "markdown",
   "id": "33134c73",
   "metadata": {},
   "source": [
    "# Linear regression "
   ]
  },
  {
   "cell_type": "code",
   "execution_count": 35,
   "id": "96cbeab4",
   "metadata": {},
   "outputs": [
    {
     "data": {
      "text/plain": [
       "LinearRegression()"
      ]
     },
     "execution_count": 35,
     "metadata": {},
     "output_type": "execute_result"
    }
   ],
   "source": [
    "from sklearn.linear_model import LinearRegression\n",
    "model = LinearRegression()\n",
    "model.fit(x_train, y_train)\n"
   ]
  },
  {
   "cell_type": "code",
   "execution_count": 36,
   "id": "1d104e7f",
   "metadata": {},
   "outputs": [
    {
     "name": "stdout",
     "output_type": "stream",
     "text": [
      "Model Accuracy:  84.0 %\n"
     ]
    }
   ],
   "source": [
    "from sklearn.metrics import r2_score\n",
    "pred = model.predict(x_test)\n",
    "print(\"Model Accuracy: \",round(r2_score(y_test, pred),2)*100,\"%\")"
   ]
  },
  {
   "cell_type": "markdown",
   "id": "53500220",
   "metadata": {},
   "source": [
    "### Model Accuracy : 84%\n"
   ]
  },
  {
   "cell_type": "markdown",
   "id": "65a2afa4",
   "metadata": {},
   "source": [
    "# Model analysis using different metrics"
   ]
  },
  {
   "cell_type": "code",
   "execution_count": 37,
   "id": "cb637771",
   "metadata": {},
   "outputs": [
    {
     "name": "stdout",
     "output_type": "stream",
     "text": [
      "Mean:   2.02 T Units per week\n",
      "Median: 1.1 T Units per week\n",
      "Max:    14.13 T Units per week\n",
      "STD:    2.23 T Units per week\n"
     ]
    }
   ],
   "source": [
    "print('Mean:  ', round(df['units_sold'].mean()/1000,2),'T Units per week')\n",
    "print('Median:', round(df['units_sold'].median()/1000,2),'T Units per week')\n",
    "print('Max:   ', round(df['units_sold'].max()/1000,2),'T Units per week')\n",
    "print('STD:   ', round(df['units_sold'].std()/1000,2),'T Units per week')"
   ]
  },
  {
   "cell_type": "code",
   "execution_count": 38,
   "id": "e1fe0d09",
   "metadata": {},
   "outputs": [
    {
     "name": "stdout",
     "output_type": "stream",
     "text": [
      "MAE:  0.47 T Units per week\n",
      "MSE:  814.72 T Units per week\n",
      "RMSE:  0.9 T Units per week\n",
      "Variance:  84.0 %\n"
     ]
    }
   ],
   "source": [
    "from sklearn.metrics import mean_absolute_error , mean_squared_error, explained_variance_score\n",
    "print('MAE: ',round(mean_absolute_error(y_test, pred)/1000,2),'T Units per week')\n",
    "print('MSE: ',round(mean_squared_error(y_test, pred)/1000,2),'T Units per week')\n",
    "print('RMSE: ',round(np.sqrt(mean_squared_error(y_test, pred))/1000,2),'T Units per week')\n",
    "print('Variance: ',round(explained_variance_score(y_test, pred),2)*100,'%')\n"
   ]
  },
  {
   "cell_type": "markdown",
   "id": "9c587396",
   "metadata": {},
   "source": [
    "# Insight:\n",
    "1. RMSE is even below then STD of data set so, good model.\n",
    "2. Variance score is excellent, hence good explanibility of model.\n",
    "3. MAE is also very less from mean so good model."
   ]
  },
  {
   "cell_type": "code",
   "execution_count": 40,
   "id": "b54ce00f",
   "metadata": {},
   "outputs": [
    {
     "data": {
      "text/plain": [
       "Text(0.5, 1.0, 'Model Performance on weekly data')"
      ]
     },
     "execution_count": 40,
     "metadata": {},
     "output_type": "execute_result"
    },
    {
     "data": {
      "image/png": "[encoded data removed]",
      "text/plain": [
       "<Figure size 640x480 with 1 Axes>"
      ]
     },
     "metadata": {},
     "output_type": "display_data"
    }
   ],
   "source": [
    "plt.plot([i for i in range(len(y_test))],y_test, label='Actual', color='green')\n",
    "plt.plot([i for i in range(len(pred))],pred, label='Predicted', color='red')\n",
    "plt.legend()\n",
    "plt.xlabel(\"Index\")\n",
    "plt.ylabel(\"Units Sold\")\n",
    "plt.title(\"Model Performance on weekly data\")"
   ]
  },
  {
   "cell_type": "markdown",
   "id": "d339b42e",
   "metadata": {},
   "source": [
    "# Now lets convert test data into required format and check actual result."
   ]
  },
  {
   "cell_type": "code",
   "execution_count": 41,
   "id": "cdd57590",
   "metadata": {},
   "outputs": [
    {
     "data": {
      "text/html": [
       "<div>\n",
       "<style scoped>\n",
       "    .dataframe tbody tr th:only-of-type {\n",
       "        vertical-align: middle;\n",
       "    }\n",
       "\n",
       "    .dataframe tbody tr th {\n",
       "        vertical-align: top;\n",
       "    }\n",
       "\n",
       "    .dataframe thead th {\n",
       "        text-align: right;\n",
       "    }\n",
       "</style>\n",
       "<table border=\"1\" class=\"dataframe\">\n",
       "  <thead>\n",
       "    <tr style=\"text-align: right;\">\n",
       "      <th></th>\n",
       "      <th>record_ID</th>\n",
       "      <th>week</th>\n",
       "      <th>store_id</th>\n",
       "      <th>sku_id</th>\n",
       "      <th>total_price</th>\n",
       "      <th>base_price</th>\n",
       "      <th>is_featured_sku</th>\n",
       "      <th>is_display_sku</th>\n",
       "    </tr>\n",
       "  </thead>\n",
       "  <tbody>\n",
       "    <tr>\n",
       "      <th>0</th>\n",
       "      <td>212645</td>\n",
       "      <td>16/07/13</td>\n",
       "      <td>8091</td>\n",
       "      <td>216418</td>\n",
       "      <td>108.3000</td>\n",
       "      <td>108.3000</td>\n",
       "      <td>0</td>\n",
       "      <td>0</td>\n",
       "    </tr>\n",
       "    <tr>\n",
       "      <th>1</th>\n",
       "      <td>212646</td>\n",
       "      <td>16/07/13</td>\n",
       "      <td>8091</td>\n",
       "      <td>216419</td>\n",
       "      <td>109.0125</td>\n",
       "      <td>109.0125</td>\n",
       "      <td>0</td>\n",
       "      <td>0</td>\n",
       "    </tr>\n",
       "    <tr>\n",
       "      <th>2</th>\n",
       "      <td>212647</td>\n",
       "      <td>16/07/13</td>\n",
       "      <td>8091</td>\n",
       "      <td>216425</td>\n",
       "      <td>133.9500</td>\n",
       "      <td>133.9500</td>\n",
       "      <td>0</td>\n",
       "      <td>0</td>\n",
       "    </tr>\n",
       "    <tr>\n",
       "      <th>3</th>\n",
       "      <td>212648</td>\n",
       "      <td>16/07/13</td>\n",
       "      <td>8091</td>\n",
       "      <td>216233</td>\n",
       "      <td>133.9500</td>\n",
       "      <td>133.9500</td>\n",
       "      <td>0</td>\n",
       "      <td>0</td>\n",
       "    </tr>\n",
       "    <tr>\n",
       "      <th>4</th>\n",
       "      <td>212649</td>\n",
       "      <td>16/07/13</td>\n",
       "      <td>8091</td>\n",
       "      <td>217390</td>\n",
       "      <td>176.7000</td>\n",
       "      <td>176.7000</td>\n",
       "      <td>0</td>\n",
       "      <td>0</td>\n",
       "    </tr>\n",
       "    <tr>\n",
       "      <th>...</th>\n",
       "      <td>...</td>\n",
       "      <td>...</td>\n",
       "      <td>...</td>\n",
       "      <td>...</td>\n",
       "      <td>...</td>\n",
       "      <td>...</td>\n",
       "      <td>...</td>\n",
       "      <td>...</td>\n",
       "    </tr>\n",
       "    <tr>\n",
       "      <th>13855</th>\n",
       "      <td>232281</td>\n",
       "      <td>01/10/13</td>\n",
       "      <td>9984</td>\n",
       "      <td>223245</td>\n",
       "      <td>241.5375</td>\n",
       "      <td>241.5375</td>\n",
       "      <td>0</td>\n",
       "      <td>0</td>\n",
       "    </tr>\n",
       "    <tr>\n",
       "      <th>13856</th>\n",
       "      <td>232282</td>\n",
       "      <td>01/10/13</td>\n",
       "      <td>9984</td>\n",
       "      <td>223153</td>\n",
       "      <td>240.8250</td>\n",
       "      <td>240.8250</td>\n",
       "      <td>0</td>\n",
       "      <td>0</td>\n",
       "    </tr>\n",
       "    <tr>\n",
       "      <th>13857</th>\n",
       "      <td>232285</td>\n",
       "      <td>01/10/13</td>\n",
       "      <td>9984</td>\n",
       "      <td>245338</td>\n",
       "      <td>382.6125</td>\n",
       "      <td>401.8500</td>\n",
       "      <td>1</td>\n",
       "      <td>1</td>\n",
       "    </tr>\n",
       "    <tr>\n",
       "      <th>13858</th>\n",
       "      <td>232286</td>\n",
       "      <td>01/10/13</td>\n",
       "      <td>9984</td>\n",
       "      <td>547934</td>\n",
       "      <td>191.6625</td>\n",
       "      <td>191.6625</td>\n",
       "      <td>0</td>\n",
       "      <td>0</td>\n",
       "    </tr>\n",
       "    <tr>\n",
       "      <th>13859</th>\n",
       "      <td>232287</td>\n",
       "      <td>01/10/13</td>\n",
       "      <td>9984</td>\n",
       "      <td>679023</td>\n",
       "      <td>234.4125</td>\n",
       "      <td>234.4125</td>\n",
       "      <td>0</td>\n",
       "      <td>0</td>\n",
       "    </tr>\n",
       "  </tbody>\n",
       "</table>\n",
       "<p>13860 rows × 8 columns</p>\n",
       "</div>"
      ],
      "text/plain": [
       "       record_ID      week  store_id  sku_id  total_price  base_price  \\\n",
       "0         212645  16/07/13      8091  216418     108.3000    108.3000   \n",
       "1         212646  16/07/13      8091  216419     109.0125    109.0125   \n",
       "2         212647  16/07/13      8091  216425     133.9500    133.9500   \n",
       "3         212648  16/07/13      8091  216233     133.9500    133.9500   \n",
       "4         212649  16/07/13      8091  217390     176.7000    176.7000   \n",
       "...          ...       ...       ...     ...          ...         ...   \n",
       "13855     232281  01/10/13      9984  223245     241.5375    241.5375   \n",
       "13856     232282  01/10/13      9984  223153     240.8250    240.8250   \n",
       "13857     232285  01/10/13      9984  245338     382.6125    401.8500   \n",
       "13858     232286  01/10/13      9984  547934     191.6625    191.6625   \n",
       "13859     232287  01/10/13      9984  679023     234.4125    234.4125   \n",
       "\n",
       "       is_featured_sku  is_display_sku  \n",
       "0                    0               0  \n",
       "1                    0               0  \n",
       "2                    0               0  \n",
       "3                    0               0  \n",
       "4                    0               0  \n",
       "...                ...             ...  \n",
       "13855                0               0  \n",
       "13856                0               0  \n",
       "13857                1               1  \n",
       "13858                0               0  \n",
       "13859                0               0  \n",
       "\n",
       "[13860 rows x 8 columns]"
      ]
     },
     "execution_count": 41,
     "metadata": {},
     "output_type": "execute_result"
    }
   ],
   "source": [
    "test = pd.read_csv('test_nfaJ3J5.csv')\n",
    "test"
   ]
  },
  {
   "cell_type": "code",
   "execution_count": 42,
   "id": "d168454d",
   "metadata": {},
   "outputs": [],
   "source": [
    "test['week']=pd.to_datetime(test['week'])\n",
    "df1 = test.groupby(['sku_id','week'])['total_price'].sum()\n",
    "df1 = df1.reset_index()"
   ]
  },
  {
   "cell_type": "code",
   "execution_count": 43,
   "id": "653f6622",
   "metadata": {},
   "outputs": [],
   "source": [
    "df2 = df1['sku_id']"
   ]
  },
  {
   "cell_type": "code",
   "execution_count": 44,
   "id": "d0277d4b",
   "metadata": {},
   "outputs": [
    {
     "data": {
      "text/html": [
       "<div>\n",
       "<style scoped>\n",
       "    .dataframe tbody tr th:only-of-type {\n",
       "        vertical-align: middle;\n",
       "    }\n",
       "\n",
       "    .dataframe tbody tr th {\n",
       "        vertical-align: top;\n",
       "    }\n",
       "\n",
       "    .dataframe thead th {\n",
       "        text-align: right;\n",
       "    }\n",
       "</style>\n",
       "<table border=\"1\" class=\"dataframe\">\n",
       "  <thead>\n",
       "    <tr style=\"text-align: right;\">\n",
       "      <th></th>\n",
       "      <th>sku_id</th>\n",
       "      <th>week</th>\n",
       "      <th>total_price</th>\n",
       "    </tr>\n",
       "  </thead>\n",
       "  <tbody>\n",
       "    <tr>\n",
       "      <th>0</th>\n",
       "      <td>216233</td>\n",
       "      <td>2013-01-10</td>\n",
       "      <td>9289.5750</td>\n",
       "    </tr>\n",
       "    <tr>\n",
       "      <th>1</th>\n",
       "      <td>216233</td>\n",
       "      <td>2013-03-09</td>\n",
       "      <td>9827.5125</td>\n",
       "    </tr>\n",
       "    <tr>\n",
       "      <th>2</th>\n",
       "      <td>216233</td>\n",
       "      <td>2013-06-08</td>\n",
       "      <td>8585.6250</td>\n",
       "    </tr>\n",
       "    <tr>\n",
       "      <th>3</th>\n",
       "      <td>216233</td>\n",
       "      <td>2013-07-16</td>\n",
       "      <td>9940.0875</td>\n",
       "    </tr>\n",
       "    <tr>\n",
       "      <th>4</th>\n",
       "      <td>216233</td>\n",
       "      <td>2013-07-23</td>\n",
       "      <td>8562.1125</td>\n",
       "    </tr>\n",
       "    <tr>\n",
       "      <th>...</th>\n",
       "      <td>...</td>\n",
       "      <td>...</td>\n",
       "      <td>...</td>\n",
       "    </tr>\n",
       "    <tr>\n",
       "      <th>331</th>\n",
       "      <td>679023</td>\n",
       "      <td>2013-08-20</td>\n",
       "      <td>2109.7125</td>\n",
       "    </tr>\n",
       "    <tr>\n",
       "      <th>332</th>\n",
       "      <td>679023</td>\n",
       "      <td>2013-08-27</td>\n",
       "      <td>1648.0125</td>\n",
       "    </tr>\n",
       "    <tr>\n",
       "      <th>333</th>\n",
       "      <td>679023</td>\n",
       "      <td>2013-09-17</td>\n",
       "      <td>2088.3375</td>\n",
       "    </tr>\n",
       "    <tr>\n",
       "      <th>334</th>\n",
       "      <td>679023</td>\n",
       "      <td>2013-09-24</td>\n",
       "      <td>2109.7125</td>\n",
       "    </tr>\n",
       "    <tr>\n",
       "      <th>335</th>\n",
       "      <td>679023</td>\n",
       "      <td>2013-10-09</td>\n",
       "      <td>1724.9625</td>\n",
       "    </tr>\n",
       "  </tbody>\n",
       "</table>\n",
       "<p>336 rows × 3 columns</p>\n",
       "</div>"
      ],
      "text/plain": [
       "     sku_id       week  total_price\n",
       "0    216233 2013-01-10    9289.5750\n",
       "1    216233 2013-03-09    9827.5125\n",
       "2    216233 2013-06-08    8585.6250\n",
       "3    216233 2013-07-16    9940.0875\n",
       "4    216233 2013-07-23    8562.1125\n",
       "..      ...        ...          ...\n",
       "331  679023 2013-08-20    2109.7125\n",
       "332  679023 2013-08-27    1648.0125\n",
       "333  679023 2013-09-17    2088.3375\n",
       "334  679023 2013-09-24    2109.7125\n",
       "335  679023 2013-10-09    1724.9625\n",
       "\n",
       "[336 rows x 3 columns]"
      ]
     },
     "execution_count": 44,
     "metadata": {},
     "output_type": "execute_result"
    }
   ],
   "source": [
    "df1"
   ]
  },
  {
   "cell_type": "code",
   "execution_count": 45,
   "id": "453ba715",
   "metadata": {},
   "outputs": [],
   "source": [
    "df1['week'] = df1['week'].apply(conv_week)"
   ]
  },
  {
   "cell_type": "code",
   "execution_count": 46,
   "id": "b1e6870b",
   "metadata": {},
   "outputs": [],
   "source": [
    "dum1 = pd.get_dummies(df1['sku_id'], drop_first=True)\n",
    "df1 = pd.concat([df1, dum1], axis = 1)\n",
    "\n",
    "df1.drop('sku_id', axis=1, inplace=True)"
   ]
  },
  {
   "cell_type": "markdown",
   "id": "c92d0361",
   "metadata": {},
   "source": [
    "# dataset is prepared for model"
   ]
  },
  {
   "cell_type": "code",
   "execution_count": 47,
   "id": "f7aa4a3b",
   "metadata": {},
   "outputs": [
    {
     "data": {
      "text/html": [
       "<div>\n",
       "<style scoped>\n",
       "    .dataframe tbody tr th:only-of-type {\n",
       "        vertical-align: middle;\n",
       "    }\n",
       "\n",
       "    .dataframe tbody tr th {\n",
       "        vertical-align: top;\n",
       "    }\n",
       "\n",
       "    .dataframe thead th {\n",
       "        text-align: right;\n",
       "    }\n",
       "</style>\n",
       "<table border=\"1\" class=\"dataframe\">\n",
       "  <thead>\n",
       "    <tr style=\"text-align: right;\">\n",
       "      <th></th>\n",
       "      <th>week</th>\n",
       "      <th>total_price</th>\n",
       "      <th>216418</th>\n",
       "      <th>216419</th>\n",
       "      <th>216425</th>\n",
       "      <th>217217</th>\n",
       "      <th>217390</th>\n",
       "      <th>217777</th>\n",
       "      <th>219009</th>\n",
       "      <th>219029</th>\n",
       "      <th>...</th>\n",
       "      <th>320485</th>\n",
       "      <th>327492</th>\n",
       "      <th>378934</th>\n",
       "      <th>398721</th>\n",
       "      <th>545621</th>\n",
       "      <th>546789</th>\n",
       "      <th>547934</th>\n",
       "      <th>600934</th>\n",
       "      <th>673209</th>\n",
       "      <th>679023</th>\n",
       "    </tr>\n",
       "  </thead>\n",
       "  <tbody>\n",
       "    <tr>\n",
       "      <th>0</th>\n",
       "      <td>201301</td>\n",
       "      <td>9289.5750</td>\n",
       "      <td>0</td>\n",
       "      <td>0</td>\n",
       "      <td>0</td>\n",
       "      <td>0</td>\n",
       "      <td>0</td>\n",
       "      <td>0</td>\n",
       "      <td>0</td>\n",
       "      <td>0</td>\n",
       "      <td>...</td>\n",
       "      <td>0</td>\n",
       "      <td>0</td>\n",
       "      <td>0</td>\n",
       "      <td>0</td>\n",
       "      <td>0</td>\n",
       "      <td>0</td>\n",
       "      <td>0</td>\n",
       "      <td>0</td>\n",
       "      <td>0</td>\n",
       "      <td>0</td>\n",
       "    </tr>\n",
       "    <tr>\n",
       "      <th>1</th>\n",
       "      <td>201303</td>\n",
       "      <td>9827.5125</td>\n",
       "      <td>0</td>\n",
       "      <td>0</td>\n",
       "      <td>0</td>\n",
       "      <td>0</td>\n",
       "      <td>0</td>\n",
       "      <td>0</td>\n",
       "      <td>0</td>\n",
       "      <td>0</td>\n",
       "      <td>...</td>\n",
       "      <td>0</td>\n",
       "      <td>0</td>\n",
       "      <td>0</td>\n",
       "      <td>0</td>\n",
       "      <td>0</td>\n",
       "      <td>0</td>\n",
       "      <td>0</td>\n",
       "      <td>0</td>\n",
       "      <td>0</td>\n",
       "      <td>0</td>\n",
       "    </tr>\n",
       "    <tr>\n",
       "      <th>2</th>\n",
       "      <td>201306</td>\n",
       "      <td>8585.6250</td>\n",
       "      <td>0</td>\n",
       "      <td>0</td>\n",
       "      <td>0</td>\n",
       "      <td>0</td>\n",
       "      <td>0</td>\n",
       "      <td>0</td>\n",
       "      <td>0</td>\n",
       "      <td>0</td>\n",
       "      <td>...</td>\n",
       "      <td>0</td>\n",
       "      <td>0</td>\n",
       "      <td>0</td>\n",
       "      <td>0</td>\n",
       "      <td>0</td>\n",
       "      <td>0</td>\n",
       "      <td>0</td>\n",
       "      <td>0</td>\n",
       "      <td>0</td>\n",
       "      <td>0</td>\n",
       "    </tr>\n",
       "    <tr>\n",
       "      <th>3</th>\n",
       "      <td>201307</td>\n",
       "      <td>9940.0875</td>\n",
       "      <td>0</td>\n",
       "      <td>0</td>\n",
       "      <td>0</td>\n",
       "      <td>0</td>\n",
       "      <td>0</td>\n",
       "      <td>0</td>\n",
       "      <td>0</td>\n",
       "      <td>0</td>\n",
       "      <td>...</td>\n",
       "      <td>0</td>\n",
       "      <td>0</td>\n",
       "      <td>0</td>\n",
       "      <td>0</td>\n",
       "      <td>0</td>\n",
       "      <td>0</td>\n",
       "      <td>0</td>\n",
       "      <td>0</td>\n",
       "      <td>0</td>\n",
       "      <td>0</td>\n",
       "    </tr>\n",
       "    <tr>\n",
       "      <th>4</th>\n",
       "      <td>201307</td>\n",
       "      <td>8562.1125</td>\n",
       "      <td>0</td>\n",
       "      <td>0</td>\n",
       "      <td>0</td>\n",
       "      <td>0</td>\n",
       "      <td>0</td>\n",
       "      <td>0</td>\n",
       "      <td>0</td>\n",
       "      <td>0</td>\n",
       "      <td>...</td>\n",
       "      <td>0</td>\n",
       "      <td>0</td>\n",
       "      <td>0</td>\n",
       "      <td>0</td>\n",
       "      <td>0</td>\n",
       "      <td>0</td>\n",
       "      <td>0</td>\n",
       "      <td>0</td>\n",
       "      <td>0</td>\n",
       "      <td>0</td>\n",
       "    </tr>\n",
       "    <tr>\n",
       "      <th>...</th>\n",
       "      <td>...</td>\n",
       "      <td>...</td>\n",
       "      <td>...</td>\n",
       "      <td>...</td>\n",
       "      <td>...</td>\n",
       "      <td>...</td>\n",
       "      <td>...</td>\n",
       "      <td>...</td>\n",
       "      <td>...</td>\n",
       "      <td>...</td>\n",
       "      <td>...</td>\n",
       "      <td>...</td>\n",
       "      <td>...</td>\n",
       "      <td>...</td>\n",
       "      <td>...</td>\n",
       "      <td>...</td>\n",
       "      <td>...</td>\n",
       "      <td>...</td>\n",
       "      <td>...</td>\n",
       "      <td>...</td>\n",
       "      <td>...</td>\n",
       "    </tr>\n",
       "    <tr>\n",
       "      <th>331</th>\n",
       "      <td>201308</td>\n",
       "      <td>2109.7125</td>\n",
       "      <td>0</td>\n",
       "      <td>0</td>\n",
       "      <td>0</td>\n",
       "      <td>0</td>\n",
       "      <td>0</td>\n",
       "      <td>0</td>\n",
       "      <td>0</td>\n",
       "      <td>0</td>\n",
       "      <td>...</td>\n",
       "      <td>0</td>\n",
       "      <td>0</td>\n",
       "      <td>0</td>\n",
       "      <td>0</td>\n",
       "      <td>0</td>\n",
       "      <td>0</td>\n",
       "      <td>0</td>\n",
       "      <td>0</td>\n",
       "      <td>0</td>\n",
       "      <td>1</td>\n",
       "    </tr>\n",
       "    <tr>\n",
       "      <th>332</th>\n",
       "      <td>201308</td>\n",
       "      <td>1648.0125</td>\n",
       "      <td>0</td>\n",
       "      <td>0</td>\n",
       "      <td>0</td>\n",
       "      <td>0</td>\n",
       "      <td>0</td>\n",
       "      <td>0</td>\n",
       "      <td>0</td>\n",
       "      <td>0</td>\n",
       "      <td>...</td>\n",
       "      <td>0</td>\n",
       "      <td>0</td>\n",
       "      <td>0</td>\n",
       "      <td>0</td>\n",
       "      <td>0</td>\n",
       "      <td>0</td>\n",
       "      <td>0</td>\n",
       "      <td>0</td>\n",
       "      <td>0</td>\n",
       "      <td>1</td>\n",
       "    </tr>\n",
       "    <tr>\n",
       "      <th>333</th>\n",
       "      <td>201309</td>\n",
       "      <td>2088.3375</td>\n",
       "      <td>0</td>\n",
       "      <td>0</td>\n",
       "      <td>0</td>\n",
       "      <td>0</td>\n",
       "      <td>0</td>\n",
       "      <td>0</td>\n",
       "      <td>0</td>\n",
       "      <td>0</td>\n",
       "      <td>...</td>\n",
       "      <td>0</td>\n",
       "      <td>0</td>\n",
       "      <td>0</td>\n",
       "      <td>0</td>\n",
       "      <td>0</td>\n",
       "      <td>0</td>\n",
       "      <td>0</td>\n",
       "      <td>0</td>\n",
       "      <td>0</td>\n",
       "      <td>1</td>\n",
       "    </tr>\n",
       "    <tr>\n",
       "      <th>334</th>\n",
       "      <td>201309</td>\n",
       "      <td>2109.7125</td>\n",
       "      <td>0</td>\n",
       "      <td>0</td>\n",
       "      <td>0</td>\n",
       "      <td>0</td>\n",
       "      <td>0</td>\n",
       "      <td>0</td>\n",
       "      <td>0</td>\n",
       "      <td>0</td>\n",
       "      <td>...</td>\n",
       "      <td>0</td>\n",
       "      <td>0</td>\n",
       "      <td>0</td>\n",
       "      <td>0</td>\n",
       "      <td>0</td>\n",
       "      <td>0</td>\n",
       "      <td>0</td>\n",
       "      <td>0</td>\n",
       "      <td>0</td>\n",
       "      <td>1</td>\n",
       "    </tr>\n",
       "    <tr>\n",
       "      <th>335</th>\n",
       "      <td>201310</td>\n",
       "      <td>1724.9625</td>\n",
       "      <td>0</td>\n",
       "      <td>0</td>\n",
       "      <td>0</td>\n",
       "      <td>0</td>\n",
       "      <td>0</td>\n",
       "      <td>0</td>\n",
       "      <td>0</td>\n",
       "      <td>0</td>\n",
       "      <td>...</td>\n",
       "      <td>0</td>\n",
       "      <td>0</td>\n",
       "      <td>0</td>\n",
       "      <td>0</td>\n",
       "      <td>0</td>\n",
       "      <td>0</td>\n",
       "      <td>0</td>\n",
       "      <td>0</td>\n",
       "      <td>0</td>\n",
       "      <td>1</td>\n",
       "    </tr>\n",
       "  </tbody>\n",
       "</table>\n",
       "<p>336 rows × 29 columns</p>\n",
       "</div>"
      ],
      "text/plain": [
       "       week  total_price  216418  216419  216425  217217  217390  217777  \\\n",
       "0    201301    9289.5750       0       0       0       0       0       0   \n",
       "1    201303    9827.5125       0       0       0       0       0       0   \n",
       "2    201306    8585.6250       0       0       0       0       0       0   \n",
       "3    201307    9940.0875       0       0       0       0       0       0   \n",
       "4    201307    8562.1125       0       0       0       0       0       0   \n",
       "..      ...          ...     ...     ...     ...     ...     ...     ...   \n",
       "331  201308    2109.7125       0       0       0       0       0       0   \n",
       "332  201308    1648.0125       0       0       0       0       0       0   \n",
       "333  201309    2088.3375       0       0       0       0       0       0   \n",
       "334  201309    2109.7125       0       0       0       0       0       0   \n",
       "335  201310    1724.9625       0       0       0       0       0       0   \n",
       "\n",
       "     219009  219029  ...  320485  327492  378934  398721  545621  546789  \\\n",
       "0         0       0  ...       0       0       0       0       0       0   \n",
       "1         0       0  ...       0       0       0       0       0       0   \n",
       "2         0       0  ...       0       0       0       0       0       0   \n",
       "3         0       0  ...       0       0       0       0       0       0   \n",
       "4         0       0  ...       0       0       0       0       0       0   \n",
       "..      ...     ...  ...     ...     ...     ...     ...     ...     ...   \n",
       "331       0       0  ...       0       0       0       0       0       0   \n",
       "332       0       0  ...       0       0       0       0       0       0   \n",
       "333       0       0  ...       0       0       0       0       0       0   \n",
       "334       0       0  ...       0       0       0       0       0       0   \n",
       "335       0       0  ...       0       0       0       0       0       0   \n",
       "\n",
       "     547934  600934  673209  679023  \n",
       "0         0       0       0       0  \n",
       "1         0       0       0       0  \n",
       "2         0       0       0       0  \n",
       "3         0       0       0       0  \n",
       "4         0       0       0       0  \n",
       "..      ...     ...     ...     ...  \n",
       "331       0       0       0       1  \n",
       "332       0       0       0       1  \n",
       "333       0       0       0       1  \n",
       "334       0       0       0       1  \n",
       "335       0       0       0       1  \n",
       "\n",
       "[336 rows x 29 columns]"
      ]
     },
     "execution_count": 47,
     "metadata": {},
     "output_type": "execute_result"
    }
   ],
   "source": [
    "df1"
   ]
  },
  {
   "cell_type": "code",
   "execution_count": 48,
   "id": "2639139c",
   "metadata": {},
   "outputs": [
    {
     "data": {
      "text/plain": [
       "True"
      ]
     },
     "execution_count": 48,
     "metadata": {},
     "output_type": "execute_result"
    }
   ],
   "source": [
    "x_test.columns.equals(df1.columns)"
   ]
  },
  {
   "cell_type": "markdown",
   "id": "c37ee4dd",
   "metadata": {},
   "source": [
    "df1 have same columns as x_test hence its ready to feed in to model "
   ]
  },
  {
   "cell_type": "code",
   "execution_count": 49,
   "id": "bf38a839",
   "metadata": {},
   "outputs": [],
   "source": [
    "df1['p_units_sold']=abs(model.predict(df1).round())"
   ]
  },
  {
   "cell_type": "code",
   "execution_count": 50,
   "id": "6e3fd4f8",
   "metadata": {},
   "outputs": [
    {
     "data": {
      "text/html": [
       "<div>\n",
       "<style scoped>\n",
       "    .dataframe tbody tr th:only-of-type {\n",
       "        vertical-align: middle;\n",
       "    }\n",
       "\n",
       "    .dataframe tbody tr th {\n",
       "        vertical-align: top;\n",
       "    }\n",
       "\n",
       "    .dataframe thead th {\n",
       "        text-align: right;\n",
       "    }\n",
       "</style>\n",
       "<table border=\"1\" class=\"dataframe\">\n",
       "  <thead>\n",
       "    <tr style=\"text-align: right;\">\n",
       "      <th></th>\n",
       "      <th>week</th>\n",
       "      <th>total_price</th>\n",
       "      <th>216418</th>\n",
       "      <th>216419</th>\n",
       "      <th>216425</th>\n",
       "      <th>217217</th>\n",
       "      <th>217390</th>\n",
       "      <th>217777</th>\n",
       "      <th>219009</th>\n",
       "      <th>219029</th>\n",
       "      <th>...</th>\n",
       "      <th>327492</th>\n",
       "      <th>378934</th>\n",
       "      <th>398721</th>\n",
       "      <th>545621</th>\n",
       "      <th>546789</th>\n",
       "      <th>547934</th>\n",
       "      <th>600934</th>\n",
       "      <th>673209</th>\n",
       "      <th>679023</th>\n",
       "      <th>p_units_sold</th>\n",
       "    </tr>\n",
       "  </thead>\n",
       "  <tbody>\n",
       "    <tr>\n",
       "      <th>0</th>\n",
       "      <td>201301</td>\n",
       "      <td>9289.5750</td>\n",
       "      <td>0</td>\n",
       "      <td>0</td>\n",
       "      <td>0</td>\n",
       "      <td>0</td>\n",
       "      <td>0</td>\n",
       "      <td>0</td>\n",
       "      <td>0</td>\n",
       "      <td>0</td>\n",
       "      <td>...</td>\n",
       "      <td>0</td>\n",
       "      <td>0</td>\n",
       "      <td>0</td>\n",
       "      <td>0</td>\n",
       "      <td>0</td>\n",
       "      <td>0</td>\n",
       "      <td>0</td>\n",
       "      <td>0</td>\n",
       "      <td>0</td>\n",
       "      <td>3533.0</td>\n",
       "    </tr>\n",
       "    <tr>\n",
       "      <th>1</th>\n",
       "      <td>201303</td>\n",
       "      <td>9827.5125</td>\n",
       "      <td>0</td>\n",
       "      <td>0</td>\n",
       "      <td>0</td>\n",
       "      <td>0</td>\n",
       "      <td>0</td>\n",
       "      <td>0</td>\n",
       "      <td>0</td>\n",
       "      <td>0</td>\n",
       "      <td>...</td>\n",
       "      <td>0</td>\n",
       "      <td>0</td>\n",
       "      <td>0</td>\n",
       "      <td>0</td>\n",
       "      <td>0</td>\n",
       "      <td>0</td>\n",
       "      <td>0</td>\n",
       "      <td>0</td>\n",
       "      <td>0</td>\n",
       "      <td>3216.0</td>\n",
       "    </tr>\n",
       "    <tr>\n",
       "      <th>2</th>\n",
       "      <td>201306</td>\n",
       "      <td>8585.6250</td>\n",
       "      <td>0</td>\n",
       "      <td>0</td>\n",
       "      <td>0</td>\n",
       "      <td>0</td>\n",
       "      <td>0</td>\n",
       "      <td>0</td>\n",
       "      <td>0</td>\n",
       "      <td>0</td>\n",
       "      <td>...</td>\n",
       "      <td>0</td>\n",
       "      <td>0</td>\n",
       "      <td>0</td>\n",
       "      <td>0</td>\n",
       "      <td>0</td>\n",
       "      <td>0</td>\n",
       "      <td>0</td>\n",
       "      <td>0</td>\n",
       "      <td>0</td>\n",
       "      <td>3952.0</td>\n",
       "    </tr>\n",
       "    <tr>\n",
       "      <th>3</th>\n",
       "      <td>201307</td>\n",
       "      <td>9940.0875</td>\n",
       "      <td>0</td>\n",
       "      <td>0</td>\n",
       "      <td>0</td>\n",
       "      <td>0</td>\n",
       "      <td>0</td>\n",
       "      <td>0</td>\n",
       "      <td>0</td>\n",
       "      <td>0</td>\n",
       "      <td>...</td>\n",
       "      <td>0</td>\n",
       "      <td>0</td>\n",
       "      <td>0</td>\n",
       "      <td>0</td>\n",
       "      <td>0</td>\n",
       "      <td>0</td>\n",
       "      <td>0</td>\n",
       "      <td>0</td>\n",
       "      <td>0</td>\n",
       "      <td>3151.0</td>\n",
       "    </tr>\n",
       "    <tr>\n",
       "      <th>4</th>\n",
       "      <td>201307</td>\n",
       "      <td>8562.1125</td>\n",
       "      <td>0</td>\n",
       "      <td>0</td>\n",
       "      <td>0</td>\n",
       "      <td>0</td>\n",
       "      <td>0</td>\n",
       "      <td>0</td>\n",
       "      <td>0</td>\n",
       "      <td>0</td>\n",
       "      <td>...</td>\n",
       "      <td>0</td>\n",
       "      <td>0</td>\n",
       "      <td>0</td>\n",
       "      <td>0</td>\n",
       "      <td>0</td>\n",
       "      <td>0</td>\n",
       "      <td>0</td>\n",
       "      <td>0</td>\n",
       "      <td>0</td>\n",
       "      <td>3967.0</td>\n",
       "    </tr>\n",
       "    <tr>\n",
       "      <th>...</th>\n",
       "      <td>...</td>\n",
       "      <td>...</td>\n",
       "      <td>...</td>\n",
       "      <td>...</td>\n",
       "      <td>...</td>\n",
       "      <td>...</td>\n",
       "      <td>...</td>\n",
       "      <td>...</td>\n",
       "      <td>...</td>\n",
       "      <td>...</td>\n",
       "      <td>...</td>\n",
       "      <td>...</td>\n",
       "      <td>...</td>\n",
       "      <td>...</td>\n",
       "      <td>...</td>\n",
       "      <td>...</td>\n",
       "      <td>...</td>\n",
       "      <td>...</td>\n",
       "      <td>...</td>\n",
       "      <td>...</td>\n",
       "      <td>...</td>\n",
       "    </tr>\n",
       "    <tr>\n",
       "      <th>331</th>\n",
       "      <td>201308</td>\n",
       "      <td>2109.7125</td>\n",
       "      <td>0</td>\n",
       "      <td>0</td>\n",
       "      <td>0</td>\n",
       "      <td>0</td>\n",
       "      <td>0</td>\n",
       "      <td>0</td>\n",
       "      <td>0</td>\n",
       "      <td>0</td>\n",
       "      <td>...</td>\n",
       "      <td>0</td>\n",
       "      <td>0</td>\n",
       "      <td>0</td>\n",
       "      <td>0</td>\n",
       "      <td>0</td>\n",
       "      <td>0</td>\n",
       "      <td>0</td>\n",
       "      <td>0</td>\n",
       "      <td>1</td>\n",
       "      <td>22.0</td>\n",
       "    </tr>\n",
       "    <tr>\n",
       "      <th>332</th>\n",
       "      <td>201308</td>\n",
       "      <td>1648.0125</td>\n",
       "      <td>0</td>\n",
       "      <td>0</td>\n",
       "      <td>0</td>\n",
       "      <td>0</td>\n",
       "      <td>0</td>\n",
       "      <td>0</td>\n",
       "      <td>0</td>\n",
       "      <td>0</td>\n",
       "      <td>...</td>\n",
       "      <td>0</td>\n",
       "      <td>0</td>\n",
       "      <td>0</td>\n",
       "      <td>0</td>\n",
       "      <td>0</td>\n",
       "      <td>0</td>\n",
       "      <td>0</td>\n",
       "      <td>0</td>\n",
       "      <td>1</td>\n",
       "      <td>295.0</td>\n",
       "    </tr>\n",
       "    <tr>\n",
       "      <th>333</th>\n",
       "      <td>201309</td>\n",
       "      <td>2088.3375</td>\n",
       "      <td>0</td>\n",
       "      <td>0</td>\n",
       "      <td>0</td>\n",
       "      <td>0</td>\n",
       "      <td>0</td>\n",
       "      <td>0</td>\n",
       "      <td>0</td>\n",
       "      <td>0</td>\n",
       "      <td>...</td>\n",
       "      <td>0</td>\n",
       "      <td>0</td>\n",
       "      <td>0</td>\n",
       "      <td>0</td>\n",
       "      <td>0</td>\n",
       "      <td>0</td>\n",
       "      <td>0</td>\n",
       "      <td>0</td>\n",
       "      <td>1</td>\n",
       "      <td>35.0</td>\n",
       "    </tr>\n",
       "    <tr>\n",
       "      <th>334</th>\n",
       "      <td>201309</td>\n",
       "      <td>2109.7125</td>\n",
       "      <td>0</td>\n",
       "      <td>0</td>\n",
       "      <td>0</td>\n",
       "      <td>0</td>\n",
       "      <td>0</td>\n",
       "      <td>0</td>\n",
       "      <td>0</td>\n",
       "      <td>0</td>\n",
       "      <td>...</td>\n",
       "      <td>0</td>\n",
       "      <td>0</td>\n",
       "      <td>0</td>\n",
       "      <td>0</td>\n",
       "      <td>0</td>\n",
       "      <td>0</td>\n",
       "      <td>0</td>\n",
       "      <td>0</td>\n",
       "      <td>1</td>\n",
       "      <td>23.0</td>\n",
       "    </tr>\n",
       "    <tr>\n",
       "      <th>335</th>\n",
       "      <td>201310</td>\n",
       "      <td>1724.9625</td>\n",
       "      <td>0</td>\n",
       "      <td>0</td>\n",
       "      <td>0</td>\n",
       "      <td>0</td>\n",
       "      <td>0</td>\n",
       "      <td>0</td>\n",
       "      <td>0</td>\n",
       "      <td>0</td>\n",
       "      <td>...</td>\n",
       "      <td>0</td>\n",
       "      <td>0</td>\n",
       "      <td>0</td>\n",
       "      <td>0</td>\n",
       "      <td>0</td>\n",
       "      <td>0</td>\n",
       "      <td>0</td>\n",
       "      <td>0</td>\n",
       "      <td>1</td>\n",
       "      <td>251.0</td>\n",
       "    </tr>\n",
       "  </tbody>\n",
       "</table>\n",
       "<p>336 rows × 30 columns</p>\n",
       "</div>"
      ],
      "text/plain": [
       "       week  total_price  216418  216419  216425  217217  217390  217777  \\\n",
       "0    201301    9289.5750       0       0       0       0       0       0   \n",
       "1    201303    9827.5125       0       0       0       0       0       0   \n",
       "2    201306    8585.6250       0       0       0       0       0       0   \n",
       "3    201307    9940.0875       0       0       0       0       0       0   \n",
       "4    201307    8562.1125       0       0       0       0       0       0   \n",
       "..      ...          ...     ...     ...     ...     ...     ...     ...   \n",
       "331  201308    2109.7125       0       0       0       0       0       0   \n",
       "332  201308    1648.0125       0       0       0       0       0       0   \n",
       "333  201309    2088.3375       0       0       0       0       0       0   \n",
       "334  201309    2109.7125       0       0       0       0       0       0   \n",
       "335  201310    1724.9625       0       0       0       0       0       0   \n",
       "\n",
       "     219009  219029  ...  327492  378934  398721  545621  546789  547934  \\\n",
       "0         0       0  ...       0       0       0       0       0       0   \n",
       "1         0       0  ...       0       0       0       0       0       0   \n",
       "2         0       0  ...       0       0       0       0       0       0   \n",
       "3         0       0  ...       0       0       0       0       0       0   \n",
       "4         0       0  ...       0       0       0       0       0       0   \n",
       "..      ...     ...  ...     ...     ...     ...     ...     ...     ...   \n",
       "331       0       0  ...       0       0       0       0       0       0   \n",
       "332       0       0  ...       0       0       0       0       0       0   \n",
       "333       0       0  ...       0       0       0       0       0       0   \n",
       "334       0       0  ...       0       0       0       0       0       0   \n",
       "335       0       0  ...       0       0       0       0       0       0   \n",
       "\n",
       "     600934  673209  679023  p_units_sold  \n",
       "0         0       0       0        3533.0  \n",
       "1         0       0       0        3216.0  \n",
       "2         0       0       0        3952.0  \n",
       "3         0       0       0        3151.0  \n",
       "4         0       0       0        3967.0  \n",
       "..      ...     ...     ...           ...  \n",
       "331       0       0       1          22.0  \n",
       "332       0       0       1         295.0  \n",
       "333       0       0       1          35.0  \n",
       "334       0       0       1          23.0  \n",
       "335       0       0       1         251.0  \n",
       "\n",
       "[336 rows x 30 columns]"
      ]
     },
     "execution_count": 50,
     "metadata": {},
     "output_type": "execute_result"
    }
   ],
   "source": [
    "df1"
   ]
  },
  {
   "cell_type": "markdown",
   "id": "99bac408",
   "metadata": {},
   "source": [
    "- p_units_sold holds the pridicted units sold values.\n",
    "\n",
    "- Now lets convert the dataset as it was in start for better visuals\n"
   ]
  },
  {
   "cell_type": "code",
   "execution_count": 51,
   "id": "fe112454",
   "metadata": {},
   "outputs": [],
   "source": [
    "df1.drop(dum1.columns,axis=1,inplace=True)"
   ]
  },
  {
   "cell_type": "code",
   "execution_count": 52,
   "id": "64558d3a",
   "metadata": {},
   "outputs": [],
   "source": [
    "df1 = pd.concat([df2,df1],axis=1)"
   ]
  },
  {
   "cell_type": "code",
   "execution_count": 53,
   "id": "b57ac4d6",
   "metadata": {},
   "outputs": [
    {
     "data": {
      "text/html": [
       "<div>\n",
       "<style scoped>\n",
       "    .dataframe tbody tr th:only-of-type {\n",
       "        vertical-align: middle;\n",
       "    }\n",
       "\n",
       "    .dataframe tbody tr th {\n",
       "        vertical-align: top;\n",
       "    }\n",
       "\n",
       "    .dataframe thead th {\n",
       "        text-align: right;\n",
       "    }\n",
       "</style>\n",
       "<table border=\"1\" class=\"dataframe\">\n",
       "  <thead>\n",
       "    <tr style=\"text-align: right;\">\n",
       "      <th></th>\n",
       "      <th>sku_id</th>\n",
       "      <th>week</th>\n",
       "      <th>total_price</th>\n",
       "      <th>p_units_sold</th>\n",
       "    </tr>\n",
       "  </thead>\n",
       "  <tbody>\n",
       "    <tr>\n",
       "      <th>0</th>\n",
       "      <td>216233</td>\n",
       "      <td>201301</td>\n",
       "      <td>9289.5750</td>\n",
       "      <td>3533.0</td>\n",
       "    </tr>\n",
       "    <tr>\n",
       "      <th>1</th>\n",
       "      <td>216233</td>\n",
       "      <td>201303</td>\n",
       "      <td>9827.5125</td>\n",
       "      <td>3216.0</td>\n",
       "    </tr>\n",
       "    <tr>\n",
       "      <th>2</th>\n",
       "      <td>216233</td>\n",
       "      <td>201306</td>\n",
       "      <td>8585.6250</td>\n",
       "      <td>3952.0</td>\n",
       "    </tr>\n",
       "    <tr>\n",
       "      <th>3</th>\n",
       "      <td>216233</td>\n",
       "      <td>201307</td>\n",
       "      <td>9940.0875</td>\n",
       "      <td>3151.0</td>\n",
       "    </tr>\n",
       "    <tr>\n",
       "      <th>4</th>\n",
       "      <td>216233</td>\n",
       "      <td>201307</td>\n",
       "      <td>8562.1125</td>\n",
       "      <td>3967.0</td>\n",
       "    </tr>\n",
       "    <tr>\n",
       "      <th>...</th>\n",
       "      <td>...</td>\n",
       "      <td>...</td>\n",
       "      <td>...</td>\n",
       "      <td>...</td>\n",
       "    </tr>\n",
       "    <tr>\n",
       "      <th>331</th>\n",
       "      <td>679023</td>\n",
       "      <td>201308</td>\n",
       "      <td>2109.7125</td>\n",
       "      <td>22.0</td>\n",
       "    </tr>\n",
       "    <tr>\n",
       "      <th>332</th>\n",
       "      <td>679023</td>\n",
       "      <td>201308</td>\n",
       "      <td>1648.0125</td>\n",
       "      <td>295.0</td>\n",
       "    </tr>\n",
       "    <tr>\n",
       "      <th>333</th>\n",
       "      <td>679023</td>\n",
       "      <td>201309</td>\n",
       "      <td>2088.3375</td>\n",
       "      <td>35.0</td>\n",
       "    </tr>\n",
       "    <tr>\n",
       "      <th>334</th>\n",
       "      <td>679023</td>\n",
       "      <td>201309</td>\n",
       "      <td>2109.7125</td>\n",
       "      <td>23.0</td>\n",
       "    </tr>\n",
       "    <tr>\n",
       "      <th>335</th>\n",
       "      <td>679023</td>\n",
       "      <td>201310</td>\n",
       "      <td>1724.9625</td>\n",
       "      <td>251.0</td>\n",
       "    </tr>\n",
       "  </tbody>\n",
       "</table>\n",
       "<p>336 rows × 4 columns</p>\n",
       "</div>"
      ],
      "text/plain": [
       "     sku_id    week  total_price  p_units_sold\n",
       "0    216233  201301    9289.5750        3533.0\n",
       "1    216233  201303    9827.5125        3216.0\n",
       "2    216233  201306    8585.6250        3952.0\n",
       "3    216233  201307    9940.0875        3151.0\n",
       "4    216233  201307    8562.1125        3967.0\n",
       "..      ...     ...          ...           ...\n",
       "331  679023  201308    2109.7125          22.0\n",
       "332  679023  201308    1648.0125         295.0\n",
       "333  679023  201309    2088.3375          35.0\n",
       "334  679023  201309    2109.7125          23.0\n",
       "335  679023  201310    1724.9625         251.0\n",
       "\n",
       "[336 rows x 4 columns]"
      ]
     },
     "execution_count": 53,
     "metadata": {},
     "output_type": "execute_result"
    }
   ],
   "source": [
    "df1"
   ]
  },
  {
   "cell_type": "markdown",
   "id": "4d00defd",
   "metadata": {},
   "source": [
    "# Result:\n",
    "- Model accuracy is more than 80%\n",
    "- RMSE is even below then STD of data set so, good model.\n",
    "- Variance score is excellent, hence good explanibility of model.\n",
    "- MAE is also very less from mean so good model."
   ]
  },
  {
   "cell_type": "code",
   "execution_count": null,
   "id": "6db1ab7c",
   "metadata": {},
   "outputs": [],
   "source": []
  }
 ],
 "metadata": {
  "kernelspec": {
   "display_name": "Python 3 (ipykernel)",
   "language": "python",
   "name": "python3"
  },
  "language_info": {
   "codemirror_mode": {
    "name": "ipython",
    "version": 3
   },
   "file_extension": ".py",
   "mimetype": "text/x-python",
   "name": "python",
   "nbconvert_exporter": "python",
   "pygments_lexer": "ipython3",
   "version": "3.9.13"
  }
 },
 "nbformat": 4,
 "nbformat_minor": 5
}
